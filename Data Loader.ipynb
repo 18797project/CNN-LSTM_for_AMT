{
 "cells": [
  {
   "cell_type": "code",
   "execution_count": 1,
   "metadata": {
    "collapsed": true
   },
   "outputs": [],
   "source": [
    "# data_loader.py\n",
    "import math\n",
    "import numpy as np\n",
    "import os,glob\n",
    "from torch.utils.data import Dataset\n",
    "import torch"
   ]
  },
  {
   "cell_type": "code",
   "execution_count": 2,
   "metadata": {
    "collapsed": true
   },
   "outputs": [],
   "source": [
    "# win_width=100\n",
    "# kernel_size=7  #7*252=42**2=1764\n",
    "# data_dir= 'C:\\proj18797\\preprocessed_data'\n",
    "\n",
    "class data_loader(Dataset):\n",
    "    def __init__(self, data_dir, win_width, kernel_size, overlap=True, phase='train'):\n",
    "        assert (phase == 'train' or phase == 'val' or phase == 'test')\n",
    "        self.phase = phase\n",
    "        filelist= glob.glob(os.path.join(data_dir,phase)+'/*') #namelist of CQT files and label files\n",
    "        print(phase+'filelist:')\n",
    "        print(filelist)\n",
    "        CQT_name=[f for f in filelist if (f[-7:-4]=='CQT')]\n",
    "        self.input=[]\n",
    "        self.nb_sample=[]\n",
    "\n",
    "        for i in CQT_name:\n",
    "            self.input.append(np.expand_dims(cut(np.load(i),win_width,kernel_size,overlap=overlap),axis=1))   # 64s,no need to paralellize, I/O is limited ,246s with 5 workers\n",
    "            self.nb_sample.append(self.input[-1].shape[0])\n",
    "        print(phase+'data loaded')\n",
    "        label_name=[f[:-7]+'label.npy' for f in CQT_name]\n",
    "        self.label=[]\n",
    "        for i in label_name:\n",
    "            self.label.append(np.expand_dims(cut(np.load(i),win_width,kernel_size,overlap=False).transpose(0,2,1),axis=3))\n",
    "        print(phase+'label loaded')\n",
    "\n",
    "    def __getitem__(self,idx):\n",
    "        #if self.phase!='test':  no real test in our senerios\n",
    "        nb_list, sub_nb = index(idx,self.nb_sample)\n",
    "        return torch.from_numpy(self.input[nb_list][sub_nb].astype(np.float32)),torch.from_numpy(self.label[nb_list][sub_nb].astype(np.float32))   #(1,106,252)/(1,100,88)\n",
    "\n",
    "    def __len__(self):\n",
    "        return sum(self.nb_sample)\n",
    "\n",
    "def cut(matrix,win_width,kernel_size,overlap=True,axis=0):  #window cut module\n",
    "# cut the tensor along the first axis by the win_width with a single frame hop\n",
    "    #matrix=np.load(matrix)\n",
    "    l=matrix.shape[0]\n",
    "    cut_matrix=[]\n",
    "    nb_win=math.floor(l/win_width)  #integer division=floor\n",
    "    if not overlap:\n",
    "        for i in range(nb_win):\n",
    "            cut_matrix.append(matrix[i*win_width:(i+1)*win_width,:])\n",
    "    else:\n",
    "        w=matrix.shape[1]\n",
    "        matrix_1=np.concatenate([np.zeros([math.floor(kernel_size/2),w]),matrix,np.zeros([math.floor(kernel_size/2),w])],axis=0)  #padding\n",
    "        cut_matrix = []\n",
    "        for i in range(nb_win):\n",
    "            cut_matrix.append(matrix_1[i * win_width:(i + 1) * win_width+kernel_size-1,:])    #0-104,100-204,...\n",
    "    cut_matrix = np.asarray(cut_matrix)\n",
    "    return cut_matrix\n",
    "\n",
    "def index(idx,nb_sample):\n",
    "    l=len(nb_sample)\n",
    "    accum_nb =0\n",
    "    nb_list=0\n",
    "    sub_nb=0\n",
    "    for i in range(l):\n",
    "        accum_nb+=nb_sample[i]\n",
    "        if idx < accum_nb:\n",
    "            nb_list, sub_nb= i, idx+nb_sample[i]-accum_nb\n",
    "            break\n",
    "    return nb_list,sub_nb\n",
    "\n",
    "\n",
    "def LoadData_main(data_dir, win_width, kernel_size,overlap=True):\n",
    "    trainset=data_loader(data_dir,win_width,kernel_size,overlap=True,phase='train');\n",
    "    valset=data_loader(data_dir,win_width,kernel_size,overlap=True,phase='val');\n",
    "    testset=data_loader(data_dir,win_width,kernel_size,overlap=True,phase='test');\n",
    "    print('all data and label loaded!')\n",
    "    return trainset,valset,testset"
   ]
  },
  {
   "cell_type": "code",
   "execution_count": null,
   "metadata": {
    "collapsed": true
   },
   "outputs": [],
   "source": []
  }
 ],
 "metadata": {
  "kernelspec": {
   "display_name": "Python 3",
   "language": "python",
   "name": "python3"
  },
  "language_info": {
   "codemirror_mode": {
    "name": "ipython",
    "version": 3
   },
   "file_extension": ".py",
   "mimetype": "text/x-python",
   "name": "python",
   "nbconvert_exporter": "python",
   "pygments_lexer": "ipython3",
   "version": "3.6.2"
  }
 },
 "nbformat": 4,
 "nbformat_minor": 2
}
