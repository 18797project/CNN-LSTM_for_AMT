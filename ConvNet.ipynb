{
 "cells": [
  {
   "cell_type": "code",
   "execution_count": 1,
   "metadata": {
    "collapsed": true
   },
   "outputs": [],
   "source": [
    "import torch\n",
    "from torch import nn\n",
    "import math\n",
    "#from layers import *"
   ]
  },
  {
   "cell_type": "code",
   "execution_count": 2,
   "metadata": {
    "collapsed": true
   },
   "outputs": [],
   "source": [
    "class Net(nn.Module):\n",
    "    def __init__(self):\n",
    "        super(Net, self).__init__()\n",
    "\n",
    "        self.maxpool = nn.MaxPool2d(kernel_size=(1,3), stride=(1,3), return_indices=False)\n",
    "\n",
    "        self.conv1= nn.Sequential(\n",
    "            nn.Conv2d(1, 50, kernel_size=(5,25), stride=1),\n",
    "            nn.BatchNorm2d(50),\n",
    "            nn.ELU(inplace=True))\n",
    "            #nn.ReLU(inplace=True)\n",
    "        self.conv2 = nn.Sequential(\n",
    "            nn.Conv2d(50, 50, kernel_size=(3,5), stride=1),\n",
    "            nn.BatchNorm2d(50),\n",
    "            nn.ELU(inplace=True))\n",
    "        # nn.ReLU(inplace=True)\n",
    "        self.conv3=nn.Sequential(\n",
    "            nn.Conv2d(50, 1000, kernel_size=(1,24)),   #kernel_size !!!!! conv_mode,padding=0 by default\n",
    "            #nn.ReLU(inplace=True),\n",
    "            nn.ELU(inplace=True),\n",
    "            nn.Dropout3d(p=0.5, inplace=False))\n",
    "        self.conv4 = nn.Sequential(\n",
    "            nn.Conv2d(1000, 500, kernel_size=1),  # kernel_size !!!!! conv_mode,padding=0 by default\n",
    "            nn.ELU(inplace=True),\n",
    "        #nn.ReLU(inplace=True),\n",
    "            nn.Dropout3d(p=0.5, inplace=False))\n",
    "        self.conv5=nn.Sequential(\n",
    "            nn.Conv2d(500, 88, kernel_size=1))#,\n",
    "            #nn.Sigmoid())\n",
    "\n",
    "    def forward(self, x):\n",
    "        # (8L, 1L, 38L, 252L)\n",
    "        x = self.conv1(x)#(8L, 50L, 34L, 228L)\n",
    "        x = self.maxpool(x)#(8L, 50L, 34L, 76L)\n",
    "        x = self.conv2(x)  #(8L, 50L, 32L, 72L)\n",
    "        x = self.maxpool(x)#(8L, 50L, 32L, 24L)\n",
    "        x = self.conv3(x)# (8L, 1000L, 32L, 1L)\n",
    "        x = self.conv4(x)#(8L, 500L, 32L, 1L)\n",
    "        x = self.conv5(x)#(8L, 88L, 32L, 1L)\n",
    "        #print x.shape\n",
    "        return x\n",
    "\n",
    "\n",
    "class Loss(nn.Module):\n",
    "    def __init__(self, num_hard=0):\n",
    "        super(Loss, self).__init__()\n",
    "        #self.sigmoid = nn.Sigmoid()\n",
    "        self.classify_loss = nn.BCEWithLogitsLoss() #weight is defined for samples\n",
    "        #self.num_hard = num_hard\n",
    "\n",
    "    def forward(self, output, labels, train=True):\n",
    "        #batch_size = labels.size(0)\n",
    "        #output = torch.transpose(output,0,3,2,1) #[6,88,32,1]->[4224,4]\n",
    "        #output=output.view(-1,88)\n",
    "        #labels = labels.view(-1,88)#[6,1,32,88]->[4224,4] unbalance\n",
    "        #print output.shape,labels.shape\n",
    "\n",
    "        loss = self.classify_loss(\n",
    "           output,labels)\n",
    "        pos = (torch.sigmoid(output) >= 0.5).type(torch.FloatTensor)\n",
    "        pos_recall=labels.sum()\n",
    "        pos_precision=pos.sum()\n",
    "        TP=(pos*labels).sum()\n",
    "        #print pos_recall.shape\n",
    "        #print type(pos)\n",
    "        return [loss,TP.data[0], pos_precision.data[0], pos_recall.data[0]] #F-score must be computed by whole epoch\n",
    "\n",
    "def get_model():\n",
    "    net = Net()\n",
    "    loss = Loss()\n",
    "    return net, loss"
   ]
  },
  {
   "cell_type": "code",
   "execution_count": null,
   "metadata": {
    "collapsed": true
   },
   "outputs": [],
   "source": []
  }
 ],
 "metadata": {
  "kernelspec": {
   "display_name": "Python 3",
   "language": "python",
   "name": "python3"
  },
  "language_info": {
   "codemirror_mode": {
    "name": "ipython",
    "version": 3
   },
   "file_extension": ".py",
   "mimetype": "text/x-python",
   "name": "python",
   "nbconvert_exporter": "python",
   "pygments_lexer": "ipython3",
   "version": "3.6.2"
  }
 },
 "nbformat": 4,
 "nbformat_minor": 2
}
