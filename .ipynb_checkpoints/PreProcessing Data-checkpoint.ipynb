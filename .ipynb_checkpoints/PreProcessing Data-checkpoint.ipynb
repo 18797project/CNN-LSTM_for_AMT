{
 "cells": [
  {
   "cell_type": "code",
   "execution_count": 2,
   "metadata": {
    "collapsed": true,
    "scrolled": true
   },
   "outputs": [],
   "source": [
    "import re,os\n",
    "import os.path as osp\n",
    "import glob\n",
    "import numpy as np\n",
    "import random\n",
    "import librosa as lb\n",
    "import zipfile\n",
    "import sys\n",
    "from multiprocessing import Pool\n",
    "from functools import partial\n",
    "import pretty_midi"
   ]
  },
  {
   "cell_type": "code",
   "execution_count": 3,
   "metadata": {
    "collapsed": true
   },
   "outputs": [],
   "source": [
    "#import h5py\n",
    "eps=sys.float_info.epsilon\n",
    "pretty_midi.pretty_midi.MAX_TICK = 1e10\n",
    "## Paramater setting ##\n",
    "RangeMIDInotes=[21,108]\n",
    "sr=44100.\n",
    "bins_per_octave=36\n",
    "n_octave=7\n",
    "data_path='C:\\\\Users\\\\SUMIT\\\\Desktop\\\\CNN-LSTM_for_AMT\\\\data'\n",
    "#test_list=['ENSTDkAm','ENSTDkCl']   #real piano\n",
    "val_rate=1./7\n",
    "n_workers=1"
   ]
  },
  {
   "cell_type": "code",
   "execution_count": 4,
   "metadata": {
    "collapsed": true
   },
   "outputs": [],
   "source": [
    "def preprocessing(data_path, sr=sr, bins_per_octave=bins_per_octave, n_octave=n_octave,#win_width=3,\n",
    "                  RangeMIDInotes=RangeMIDInotes, save_path=None,n_worker=n_workers,delete=True):\n",
    "    # Convert the raw data(wav/mid) into input/output data from the train/test directories\n",
    "\n",
    "    # data_path = None or any other with train/test dirs inside\n",
    "\n",
    "    # output_path: Path to save the processed data with format hdf5\n",
    "    # None=only preprocessed data,no output file;\n",
    "    # '' generate an output directory in current directory(without preprocessed data)\n",
    "\n",
    "    # output_name: name the hf file, data.h5 by default\n",
    "    # sr:Raw audio sampling rate\n",
    "    # RangeMIDInotes: by default for the 88 key piano\n",
    "\n",
    "    # Default data path\n",
    "    if save_path == None:\n",
    "        save_path = osp.join(osp.dirname(osp.realpath(data_path)), 'preprocessed_data')\n",
    "        if not osp.exists(save_path):\n",
    "            os.makedirs(save_path)\n",
    "    output_train = osp.join(save_path, 'train')\n",
    "    output_val = osp.join(save_path, 'val')\n",
    "    output_test = osp.join(save_path, 'test')\n",
    "\n",
    "    if not osp.exists(output_train):\n",
    "        os.makedirs(output_train)\n",
    "\n",
    "    if not osp.exists(output_val):\n",
    "        os.makedirs(output_val)\n",
    "\n",
    "    if not osp.exists(output_test):\n",
    "        os.makedirs(output_test)\n",
    "\n",
    "    # train/test inside\n",
    "    train_list = glob.glob(osp.join(data_path, 'train') + '/*')\n",
    "    val_list = glob.glob(osp.join(data_path, 'val') + '/*')\n",
    "    test_list = glob.glob(osp.join(data_path, 'test') + '/*')\n",
    "\n",
    "    train_name = []\n",
    "    val_name= []\n",
    "    test_name = []\n",
    "    for i in train_list:\n",
    "        train_name.append(i[:-3])\n",
    "    for i in val_list:\n",
    "        val_name.append(i[:-3])\n",
    "    for i in test_list:\n",
    "        test_name.append(i[:-3])\n",
    "    train_name = list(set(train_name)) #remove repeated name\n",
    "    val_name = list(set(val_name))\n",
    "    test_name = list(set(test_name))\n",
    "\n",
    "    n_bins=n_octave*bins_per_octave\n",
    "\n",
    "\n",
    "    # training set processing\n",
    "    if n_worker==1:\n",
    "        for i in train_name:\n",
    "            processing(i, n_bins, output_train, sr=sr, bins_per_octave=bins_per_octave,\n",
    "                    RangeMIDInotes=RangeMIDInotes)\n",
    "        for i in val_name:\n",
    "            processing(i, n_bins, output_val, sr=sr, bins_per_octave=bins_per_octave,\n",
    "                    RangeMIDInotes=RangeMIDInotes)\n",
    "    # testing set processing# testing set processing\n",
    "        for i in test_name:\n",
    "            processing(i, n_bins, output_test, sr=sr, bins_per_octave=bins_per_octave,\n",
    "                    RangeMIDInotes=RangeMIDInotes)\n",
    "    else:\n",
    "        pool = Pool(processes=n_worker)\n",
    "        partial_processing = partial(processing, n_bins=n_bins, output=output_train, sr=sr, bins_per_octave=bins_per_octave,\n",
    "                    RangeMIDInotes=RangeMIDInotes)\n",
    "        _ = pool.map(partial_processing, train_name)\n",
    "        pool.close()\n",
    "        pool.join()\n",
    "\n",
    "        pool = Pool(processes=n_worker)\n",
    "        partial_processing = partial(processing, n_bins=n_bins,output=output_val, sr=sr,\n",
    "                                     bins_per_octave=bins_per_octave,\n",
    "                                     RangeMIDInotes=RangeMIDInotes)\n",
    "        _ = pool.map(partial_processing, val_name)\n",
    "        pool.close()\n",
    "        pool.join()\n",
    "\n",
    "        pool = Pool(processes=n_worker)\n",
    "        partial_processing = partial(processing, n_bins=n_bins, output=output_test, sr=sr,\n",
    "                                     bins_per_octave=bins_per_octave,\n",
    "                                     RangeMIDInotes=RangeMIDInotes)\n",
    "        _ = pool.map(partial_processing, test_name)\n",
    "        pool.close()\n",
    "        pool.join()\n",
    "\n",
    "    print('Data preprocessing completed')\n",
    "    if delete:\n",
    "        os.system(\"rm -r %s\" % (data_path))"
   ]
  },
  {
   "cell_type": "code",
   "execution_count": 5,
   "metadata": {
    "collapsed": true
   },
   "outputs": [],
   "source": [
    "def processing(data_path,n_bins,output,sr=sr, bins_per_octave=bins_per_octave,\n",
    "                  RangeMIDInotes=RangeMIDInotes):\n",
    "    save_path=osp.join(output,data_path.split('\\\\')[-1][:-1])\n",
    "    # input:  CQT spectrum form raw audio\n",
    "    audio_path_train = data_path + 'wav'\n",
    "    print(audio_path_train)\n",
    "    x, sr = lb.load(audio_path_train, sr=sr)\n",
    "    CQT_spectrum = lb.cqt(x, sr=sr, bins_per_octave=bins_per_octave, n_bins=n_bins,\n",
    "                                fmin=lb.note_to_hz('A0'))\n",
    "    CQT = np.transpose(np.abs(CQT_spectrum))\n",
    "\n",
    "    # Ground-truth: convert midi to pianoroll\n",
    "    midi_path_train = data_path + 'mid'\n",
    "    Ground_truth_mat=midi2mat(midi_path_train, len(x), CQT.shape[0], sr, RangeMIDInotes=RangeMIDInotes)\n",
    "    midi_train = np.transpose(Ground_truth_mat)\n",
    "\n",
    "    if midi_train.shape[0]<CQT.shape[0]:\n",
    "    #midi length<CQT length, cut CQT \n",
    "        CQT=CQT[:midi_train.shape[0],:]\n",
    "    np.save(save_path + '_CQT.npy', CQT)\n",
    "    np.save(save_path + '_label.npy', midi_train)\n",
    "    print(\"Preprocessing of file %s completed...\" % (data_path[:-1]))"
   ]
  },
  {
   "cell_type": "code",
   "execution_count": 6,
   "metadata": {
    "collapsed": true
   },
   "outputs": [],
   "source": [
    "def midi2mat(midi_path_train, length, CQT_len, sr, RangeMIDInotes=RangeMIDInotes):\n",
    "    midi_data = pretty_midi.PrettyMIDI(midi_path_train)\n",
    "    pianoRoll = midi_data.instruments[0].get_piano_roll(fs=CQT_len * sr/length)\n",
    "    Ground_truth_mat = (pianoRoll[RangeMIDInotes[0]:RangeMIDInotes[1] + 1, :CQT_len] > 0) #bool mat\n",
    "    return Ground_truth_mat"
   ]
  },
  {
   "cell_type": "code",
   "execution_count": 16,
   "metadata": {
    "collapsed": true
   },
   "outputs": [],
   "source": [
    "save_path = osp.join(osp.dirname(osp.realpath(data_path)), 'preprocessed_data')\n",
    "if not osp.exists(save_path):\n",
    "    os.makedirs(save_path)\n",
    "output_train = osp.join(save_path, 'train')\n",
    "output_val = osp.join(save_path, 'val')\n",
    "output_test = osp.join(save_path, 'test')"
   ]
  },
  {
   "cell_type": "code",
   "execution_count": 17,
   "metadata": {},
   "outputs": [
    {
     "data": {
      "text/plain": [
       "'C:\\\\Users\\\\SUMIT\\\\Desktop\\\\CNN-LSTM_for_AMT\\\\data'"
      ]
     },
     "execution_count": 17,
     "metadata": {},
     "output_type": "execute_result"
    }
   ],
   "source": [
    "data_path"
   ]
  },
  {
   "cell_type": "code",
   "execution_count": 18,
   "metadata": {
    "collapsed": true
   },
   "outputs": [],
   "source": [
    "if not osp.exists(output_train):\n",
    "    os.makedirs(output_train)\n",
    "\n",
    "if not osp.exists(output_val):\n",
    "    os.makedirs(output_val)\n",
    "\n",
    "if not osp.exists(output_test):\n",
    "    os.makedirs(output_test)"
   ]
  },
  {
   "cell_type": "code",
   "execution_count": 19,
   "metadata": {},
   "outputs": [
    {
     "data": {
      "text/plain": [
       "['C:\\\\Users\\\\SUMIT\\\\Desktop\\\\CNN-LSTM_for_AMT\\\\data\\\\train\\\\schumm-1.mid',\n",
       " 'C:\\\\Users\\\\SUMIT\\\\Desktop\\\\CNN-LSTM_for_AMT\\\\data\\\\train\\\\schumm-1.wav',\n",
       " 'C:\\\\Users\\\\SUMIT\\\\Desktop\\\\CNN-LSTM_for_AMT\\\\data\\\\train\\\\scn15_13.mid',\n",
       " 'C:\\\\Users\\\\SUMIT\\\\Desktop\\\\CNN-LSTM_for_AMT\\\\data\\\\train\\\\scn15_13.wav']"
      ]
     },
     "execution_count": 19,
     "metadata": {},
     "output_type": "execute_result"
    }
   ],
   "source": [
    "train_list = glob.glob(osp.join(data_path, 'train') + '/*')\n",
    "val_list = glob.glob(osp.join(data_path, 'val') + '/*')\n",
    "test_list = glob.glob(osp.join(data_path, 'test') + '/*')\n",
    "\n",
    "train_name = []\n",
    "val_name= []\n",
    "test_name = []\n",
    "\n",
    "train_list"
   ]
  },
  {
   "cell_type": "code",
   "execution_count": 20,
   "metadata": {},
   "outputs": [
    {
     "data": {
      "text/plain": [
       "'C:\\\\Users\\\\SUMIT\\\\Desktop\\\\CNN-LSTM_for_AMT\\\\data'"
      ]
     },
     "execution_count": 20,
     "metadata": {},
     "output_type": "execute_result"
    }
   ],
   "source": [
    "data_path"
   ]
  },
  {
   "cell_type": "code",
   "execution_count": 21,
   "metadata": {},
   "outputs": [
    {
     "data": {
      "text/plain": [
       "['C:\\\\Users\\\\SUMIT\\\\Desktop\\\\CNN-LSTM_for_AMT\\\\data\\\\train\\\\schumm-1.',\n",
       " 'C:\\\\Users\\\\SUMIT\\\\Desktop\\\\CNN-LSTM_for_AMT\\\\data\\\\train\\\\schumm-1.',\n",
       " 'C:\\\\Users\\\\SUMIT\\\\Desktop\\\\CNN-LSTM_for_AMT\\\\data\\\\train\\\\scn15_13.',\n",
       " 'C:\\\\Users\\\\SUMIT\\\\Desktop\\\\CNN-LSTM_for_AMT\\\\data\\\\train\\\\scn15_13.']"
      ]
     },
     "execution_count": 21,
     "metadata": {},
     "output_type": "execute_result"
    }
   ],
   "source": [
    "for i in train_list:\n",
    "    train_name.append(i[:-3])\n",
    "for i in val_list:\n",
    "    val_name.append(i[:-3])\n",
    "for i in test_list:\n",
    "    test_name.append(i[:-3])\n",
    "    \n",
    "train_name"
   ]
  },
  {
   "cell_type": "code",
   "execution_count": 22,
   "metadata": {
    "scrolled": true
   },
   "outputs": [
    {
     "data": {
      "text/plain": [
       "['C:\\\\Users\\\\SUMIT\\\\Desktop\\\\CNN-LSTM_for_AMT\\\\data\\\\train\\\\scn15_13.',\n",
       " 'C:\\\\Users\\\\SUMIT\\\\Desktop\\\\CNN-LSTM_for_AMT\\\\data\\\\train\\\\schumm-1.']"
      ]
     },
     "execution_count": 22,
     "metadata": {},
     "output_type": "execute_result"
    }
   ],
   "source": [
    "train_name = list(set(train_name))\n",
    "val_name = list(set(val_name))\n",
    "test_name = list(set(test_name))\n",
    "\n",
    "\n",
    "# In[18]:\n",
    "\n",
    "\n",
    "train_name"
   ]
  },
  {
   "cell_type": "code",
   "execution_count": 23,
   "metadata": {},
   "outputs": [
    {
     "data": {
      "text/plain": [
       "252"
      ]
     },
     "execution_count": 23,
     "metadata": {},
     "output_type": "execute_result"
    }
   ],
   "source": [
    "# In[19]:\n",
    "\n",
    "\n",
    "n_bins=n_octave*bins_per_octave\n",
    "\n",
    "\n",
    "# In[20]:\n",
    "\n",
    "\n",
    "n_bins\n",
    "\n",
    "\n",
    "# In[22]:"
   ]
  },
  {
   "cell_type": "code",
   "execution_count": 24,
   "metadata": {},
   "outputs": [
    {
     "data": {
      "text/plain": [
       "['C:\\\\Users\\\\SUMIT\\\\Desktop\\\\CNN-LSTM_for_AMT\\\\data\\\\train\\\\scn15_13.',\n",
       " 'C:\\\\Users\\\\SUMIT\\\\Desktop\\\\CNN-LSTM_for_AMT\\\\data\\\\train\\\\schumm-1.']"
      ]
     },
     "execution_count": 24,
     "metadata": {},
     "output_type": "execute_result"
    }
   ],
   "source": [
    "for path in train_name:\n",
    "    data_path=path\n",
    "    output=output_train\n",
    "    save_path=osp.join(output,data_path.split('\\\\')[-1][:-1])\n",
    "    audio_path_train = data_path + 'wav'\n",
    "    x, sr = lb.load(audio_path_train, sr=sr)\n",
    "    CQT_spectrum = lb.cqt(x, sr=sr, bins_per_octave=bins_per_octave, n_bins=n_bins, fmin=lb.note_to_hz('A0'))\n",
    "    CQT = np.transpose(np.abs(CQT_spectrum))\n",
    "    midi_path_train = data_path + 'mid'\n",
    "    \n",
    "    \n",
    "    \n",
    "    \n",
    "    \n",
    "    \n",
    "    "
   ]
  },
  {
   "cell_type": "code",
   "execution_count": 26,
   "metadata": {
    "collapsed": true
   },
   "outputs": [],
   "source": []
  },
  {
   "cell_type": "code",
   "execution_count": 28,
   "metadata": {},
   "outputs": [
    {
     "name": "stdout",
     "output_type": "stream",
     "text": [
      "C:\\Users\\SUMIT\\Desktop\\CNN-LSTM_for_AMT\\data\\train\\scn15_13.wav\n",
      "Preprocessing of file C:\\Users\\SUMIT\\Desktop\\CNN-LSTM_for_AMT\\data\\train\\scn15_13 completed...\n",
      "C:\\Users\\SUMIT\\Desktop\\CNN-LSTM_for_AMT\\data\\train\\schumm-1.wav\n",
      "Preprocessing of file C:\\Users\\SUMIT\\Desktop\\CNN-LSTM_for_AMT\\data\\train\\schumm-1 completed...\n"
     ]
    }
   ],
   "source": [
    "output=output_train\n",
    "for path in train_name:\n",
    "    data_path=path\n",
    "    processing(data_path,n_bins,output,sr=sr, bins_per_octave=bins_per_octave,RangeMIDInotes=RangeMIDInotes)"
   ]
  },
  {
   "cell_type": "code",
   "execution_count": 29,
   "metadata": {},
   "outputs": [
    {
     "name": "stdout",
     "output_type": "stream",
     "text": [
      "C:\\Users\\SUMIT\\Desktop\\CNN-LSTM_for_AMT\\data\\val\\scn16_2.wav\n",
      "Preprocessing of file C:\\Users\\SUMIT\\Desktop\\CNN-LSTM_for_AMT\\data\\val\\scn16_2 completed...\n",
      "C:\\Users\\SUMIT\\Desktop\\CNN-LSTM_for_AMT\\data\\val\\chpn_op35_1.wav\n",
      "Preprocessing of file C:\\Users\\SUMIT\\Desktop\\CNN-LSTM_for_AMT\\data\\val\\chpn_op35_1 completed...\n"
     ]
    }
   ],
   "source": [
    "output=output_val\n",
    "for path in val_name:\n",
    "    data_path=path\n",
    "    processing(data_path,n_bins,output,sr=sr, bins_per_octave=bins_per_octave,RangeMIDInotes=RangeMIDInotes)"
   ]
  },
  {
   "cell_type": "code",
   "execution_count": null,
   "metadata": {
    "collapsed": true
   },
   "outputs": [],
   "source": [
    "output=output_test\n",
    "for path in test_name:\n",
    "    data_path=path\n",
    "    processing(data_path,n_bins,output,sr=sr, bins_per_octave=bins_per_octave,RangeMIDInotes=RangeMIDInotes)"
   ]
  },
  {
   "cell_type": "code",
   "execution_count": 84,
   "metadata": {},
   "outputs": [
    {
     "data": {
      "text/plain": [
       "'C:\\\\Users\\\\SUMIT\\\\Desktop\\\\CNN-LSTM_for_AMT\\\\data\\\\train\\\\scn15_13.'"
      ]
     },
     "execution_count": 84,
     "metadata": {},
     "output_type": "execute_result"
    }
   ],
   "source": [
    "data_path=train_name[0]\n",
    "\n",
    "\n",
    "# In[23]:\n",
    "\n",
    "\n",
    "data_path"
   ]
  },
  {
   "cell_type": "code",
   "execution_count": 85,
   "metadata": {},
   "outputs": [
    {
     "data": {
      "text/plain": [
       "'C:\\\\Users\\\\SUMIT\\\\Desktop\\\\CNN-LSTM_for_AMT\\\\preprocessed_data\\\\train'"
      ]
     },
     "execution_count": 85,
     "metadata": {},
     "output_type": "execute_result"
    }
   ],
   "source": [
    "# In[25]:\n",
    "\n",
    "\n",
    "output=output_train\n",
    "\n",
    "\n",
    "# In[26]:\n",
    "\n",
    "\n",
    "output"
   ]
  },
  {
   "cell_type": "code",
   "execution_count": 86,
   "metadata": {},
   "outputs": [
    {
     "data": {
      "text/plain": [
       "'C:\\\\Users\\\\SUMIT\\\\Desktop\\\\CNN-LSTM_for_AMT\\\\preprocessed_data\\\\train\\\\scn15_13'"
      ]
     },
     "execution_count": 86,
     "metadata": {},
     "output_type": "execute_result"
    }
   ],
   "source": [
    "# In[34]:\n",
    "\n",
    "\n",
    "save_path=osp.join(output,data_path.split('\\\\')[-1][:-1])\n",
    "\n",
    "\n",
    "# In[35]:\n",
    "\n",
    "\n",
    "save_path"
   ]
  },
  {
   "cell_type": "code",
   "execution_count": 87,
   "metadata": {},
   "outputs": [
    {
     "data": {
      "text/plain": [
       "['C:',\n",
       " 'Users',\n",
       " 'SUMIT',\n",
       " 'Desktop',\n",
       " 'CNN-LSTM_for_AMT',\n",
       " 'data',\n",
       " 'train',\n",
       " 'scn15_13.']"
      ]
     },
     "execution_count": 87,
     "metadata": {},
     "output_type": "execute_result"
    }
   ],
   "source": [
    "# In[37]:\n",
    "\n",
    "\n",
    "data_path.split('\\\\')[-1][:-1]\n",
    "\n",
    "\n",
    "# In[32]:\n",
    "\n",
    "\n",
    "data_path.split('\\\\')"
   ]
  },
  {
   "cell_type": "code",
   "execution_count": 88,
   "metadata": {},
   "outputs": [
    {
     "data": {
      "text/plain": [
       "'C:\\\\Users\\\\SUMIT\\\\Desktop\\\\CNN-LSTM_for_AMT\\\\data\\\\train\\\\scn15_13.wav'"
      ]
     },
     "execution_count": 88,
     "metadata": {},
     "output_type": "execute_result"
    }
   ],
   "source": [
    "# In[38]:\n",
    "\n",
    "\n",
    "audio_path_train = data_path + 'wav'\n",
    "\n",
    "\n",
    "# In[39]:\n",
    "\n",
    "\n",
    "audio_path_train"
   ]
  },
  {
   "cell_type": "code",
   "execution_count": 89,
   "metadata": {},
   "outputs": [
    {
     "data": {
      "text/plain": [
       "44100.0"
      ]
     },
     "execution_count": 89,
     "metadata": {},
     "output_type": "execute_result"
    }
   ],
   "source": [
    "x, sr = lb.load(audio_path_train, sr=sr)\n",
    "\n",
    "x\n",
    "sr"
   ]
  },
  {
   "cell_type": "code",
   "execution_count": 90,
   "metadata": {},
   "outputs": [
    {
     "data": {
      "text/plain": [
       "(3553274,)"
      ]
     },
     "execution_count": 90,
     "metadata": {},
     "output_type": "execute_result"
    }
   ],
   "source": [
    "# In[44]:\n",
    "\n",
    "\n",
    "CQT_spectrum = lb.cqt(x, sr=sr, bins_per_octave=bins_per_octave, n_bins=n_bins,\n",
    "                                fmin=lb.note_to_hz('A0'))\n",
    "\n",
    "\n",
    "# In[45]:\n",
    "\n",
    "\n",
    "CQT_spectrum\n",
    "\n",
    "\n",
    "# In[47]:\n",
    "\n",
    "\n",
    "CQT_spectrum.shape\n",
    "\n",
    "\n",
    "# In[48]:\n",
    "\n",
    "\n",
    "x.shape"
   ]
  },
  {
   "cell_type": "code",
   "execution_count": 91,
   "metadata": {},
   "outputs": [
    {
     "data": {
      "text/plain": [
       "(6940, 252)"
      ]
     },
     "execution_count": 91,
     "metadata": {},
     "output_type": "execute_result"
    }
   ],
   "source": [
    "CQT = np.transpose(np.abs(CQT_spectrum))\n",
    "\n",
    "\n",
    "# In[54]:\n",
    "\n",
    "\n",
    "CQT.shape"
   ]
  },
  {
   "cell_type": "code",
   "execution_count": 92,
   "metadata": {},
   "outputs": [
    {
     "data": {
      "text/plain": [
       "'C:\\\\Users\\\\SUMIT\\\\Desktop\\\\CNN-LSTM_for_AMT\\\\data\\\\train\\\\scn15_13.mid'"
      ]
     },
     "execution_count": 92,
     "metadata": {},
     "output_type": "execute_result"
    }
   ],
   "source": [
    "midi_path_train = data_path + 'mid'\n",
    "midi_path_train"
   ]
  },
  {
   "cell_type": "code",
   "execution_count": 93,
   "metadata": {},
   "outputs": [
    {
     "data": {
      "text/plain": [
       "<pretty_midi.pretty_midi.PrettyMIDI at 0x295027cdc18>"
      ]
     },
     "execution_count": 93,
     "metadata": {},
     "output_type": "execute_result"
    }
   ],
   "source": [
    "midi_data = pretty_midi.PrettyMIDI(midi_path_train)\n",
    "\n",
    "\n",
    "# In[62]:\n",
    "\n",
    "\n",
    "midi_data"
   ]
  },
  {
   "cell_type": "code",
   "execution_count": 94,
   "metadata": {},
   "outputs": [
    {
     "data": {
      "text/plain": [
       "6940"
      ]
     },
     "execution_count": 94,
     "metadata": {},
     "output_type": "execute_result"
    }
   ],
   "source": [
    "CQT_len=CQT.shape[0]\n",
    "CQT_len"
   ]
  },
  {
   "cell_type": "code",
   "execution_count": 95,
   "metadata": {},
   "outputs": [
    {
     "data": {
      "text/plain": [
       "3553274"
      ]
     },
     "execution_count": 95,
     "metadata": {},
     "output_type": "execute_result"
    }
   ],
   "source": [
    "length=len(x)\n",
    "length"
   ]
  },
  {
   "cell_type": "code",
   "execution_count": 96,
   "metadata": {},
   "outputs": [
    {
     "data": {
      "text/plain": [
       "(128, 7746)"
      ]
     },
     "execution_count": 96,
     "metadata": {},
     "output_type": "execute_result"
    }
   ],
   "source": [
    "pianoRoll = midi_data.instruments[0].get_piano_roll(fs=100)\n",
    "pianoRoll.shape"
   ]
  },
  {
   "cell_type": "code",
   "execution_count": 97,
   "metadata": {},
   "outputs": [
    {
     "name": "stdout",
     "output_type": "stream",
     "text": [
      "Data preprocessing completed\n",
      "Data preprocessing completed\n"
     ]
    },
    {
     "data": {
      "text/plain": [
       "['C:\\\\Users\\\\SUMIT\\\\Desktop\\\\CNN-LSTM_for_AMT\\\\data\\\\val\\\\scn16_2.']"
      ]
     },
     "execution_count": 97,
     "metadata": {},
     "output_type": "execute_result"
    }
   ],
   "source": [
    "midi_data.instruments[0]\n",
    "\n",
    "\n",
    "# In[71]:\n",
    "\n",
    "\n",
    "fs=CQT_len * sr/length\n",
    "fs\n",
    "\n",
    "\n",
    "# In[77]:\n",
    "\n",
    "\n",
    "Ground_truth_mat = (pianoRoll[RangeMIDInotes[0]:RangeMIDInotes[1] + 1, :CQT_len] > 0)\n",
    "\n",
    "\n",
    "# In[78]:\n",
    "\n",
    "\n",
    "Ground_truth_mat\n",
    "\n",
    "\n",
    "# In[80]:\n",
    "\n",
    "\n",
    "Ground_truth_mat=midi2mat(midi_path_train, len(x), CQT.shape[0], sr, RangeMIDInotes=RangeMIDInotes)\n",
    "midi_train = np.transpose(Ground_truth_mat)\n",
    "\n",
    "if midi_train.shape[0]<CQT.shape[0]:\n",
    "#midi length<CQT length, cut CQT \n",
    "    CQT=CQT[:midi_train.shape[0],:]\n",
    "\n",
    "\n",
    "# In[81]:\n",
    "\n",
    "\n",
    "CQT.shape\n",
    "\n",
    "\n",
    "# In[82]:\n",
    "\n",
    "\n",
    "np.save(save_path + '_CQT.npy', CQT)\n",
    "np.save(save_path + '_label.npy', midi_train)\n",
    "\n",
    "\n",
    "# In[5]:\n",
    "\n",
    "\n",
    "preprocessing(data_path)\n",
    "\n",
    "\n",
    "# In[91]:\n",
    "\n",
    "\n",
    "train_name\n",
    "\n",
    "\n",
    "# In[2]:\n",
    "\n",
    "\n",
    "preprocessing(data_path)\n",
    "\n",
    "\n",
    "# In[99]:\n",
    "\n",
    "\n",
    "val_list = glob.glob(osp.join(data_path, 'val') + '/*')\n",
    "\n",
    "\n",
    "# In[100]:\n",
    "\n",
    "\n",
    "val_list\n",
    "\n",
    "\n",
    "# In[101]:\n",
    "\n",
    "\n",
    "for i in val_list:\n",
    "    val_name.append(i[:-3])\n",
    "\n",
    "\n",
    "# In[102]:\n",
    "\n",
    "\n",
    "val_name\n",
    "\n",
    "\n",
    "# In[103]:\n",
    "\n",
    "\n",
    "val_name = list(set(val_name))\n",
    "\n",
    "\n",
    "# In[104]:\n",
    "\n",
    "\n",
    "val_name\n"
   ]
  },
  {
   "cell_type": "code",
   "execution_count": null,
   "metadata": {
    "collapsed": true
   },
   "outputs": [],
   "source": []
  },
  {
   "cell_type": "code",
   "execution_count": 12,
   "metadata": {},
   "outputs": [
    {
     "data": {
      "text/plain": [
       "'data\\\\train\\\\scn16_8.mid'"
      ]
     },
     "execution_count": 12,
     "metadata": {},
     "output_type": "execute_result"
    }
   ],
   "source": [
    "midi_path_train"
   ]
  },
  {
   "cell_type": "code",
   "execution_count": null,
   "metadata": {
    "collapsed": true
   },
   "outputs": [],
   "source": []
  }
 ],
 "metadata": {
  "kernelspec": {
   "display_name": "Python 3",
   "language": "python",
   "name": "python3"
  },
  "language_info": {
   "codemirror_mode": {
    "name": "ipython",
    "version": 3
   },
   "file_extension": ".py",
   "mimetype": "text/x-python",
   "name": "python",
   "nbconvert_exporter": "python",
   "pygments_lexer": "ipython3",
   "version": "3.6.2"
  }
 },
 "nbformat": 4,
 "nbformat_minor": 2
}
