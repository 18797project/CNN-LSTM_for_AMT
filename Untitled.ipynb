{
 "cells": [
  {
   "cell_type": "code",
   "execution_count": 3,
   "metadata": {},
   "outputs": [],
   "source": [
    "# %load MAPS_prepare.py\n",
    "#!/usr/bin/env python2\n",
    "\"\"\"\n",
    "Created on Fri Dec 16 20:51:08 2016\n",
    "\n",
    "@author: wyc\n",
    "\n",
    "Preprocessing module specific to the MAPS dataset\n",
    "Multi-thread is supported\n",
    "\"\"\"\n",
    "\n",
    "import re,os\n",
    "import os.path as osp\n",
    "import glob\n",
    "import numpy as np\n",
    "import random\n",
    "import librosa as lb\n",
    "import pretty_midi\n",
    "import zipfile\n",
    "import sys\n",
    "from multiprocessing import Pool\n",
    "from functools import partial\n",
    "\n",
    "#import h5py\n",
    "eps=sys.float_info.epsilon\n",
    "pretty_midi.pretty_midi.MAX_TICK = 1e10\n",
    "## Paramater setting ##\n",
    "RangeMIDInotes=[21,108]\n",
    "sr=44100.\n",
    "bins_per_octave=36\n",
    "n_octave=7\n",
    "data_path='C:\\proj18797\\data'\n",
    "#test_list=['ENSTDkAm','ENSTDkCl']   #real piano\n",
    "val_rate=1./7\n",
    "n_workers=1\n",
    "\n",
    "def preprocessing(data_path, sr=sr, bins_per_octave=bins_per_octave, n_octave=n_octave,#win_width=3,\n",
    "                  RangeMIDInotes=RangeMIDInotes, save_path=None,n_worker=n_workers,delete=True):\n",
    "    # Convert the raw data(wav/mid) into input/output data from the train/test directories\n",
    "\n",
    "    # data_path = None or any other with train/test dirs inside\n",
    "\n",
    "    # output_path: Path to save the processed data with format hdf5\n",
    "    # None=only preprocessed data,no output file;\n",
    "    # '' generate an output directory in current directory(without preprocessed data)\n",
    "\n",
    "    # output_name: name the hf file, data.h5 by default\n",
    "    # sr:Raw audio sampling rate\n",
    "    # RangeMIDInotes: by default for the 88 key piano\n",
    "\n",
    "    # Default data path\n",
    "    if save_path == None:\n",
    "        save_path = osp.join(osp.dirname(osp.realpath(data_path)), 'preprocessed_data')\n",
    "        if not osp.exists(save_path):\n",
    "            os.makedirs(save_path)\n",
    "    output_train = osp.join(save_path, 'train')\n",
    "    output_val = osp.join(save_path, 'val')\n",
    "    output_test = osp.join(save_path, 'test')\n",
    "\n",
    "    if not osp.exists(output_train):\n",
    "        os.makedirs(output_train)\n",
    "\n",
    "    if not osp.exists(output_val):\n",
    "        os.makedirs(output_val)\n",
    "\n",
    "    if not osp.exists(output_test):\n",
    "        os.makedirs(output_test)\n",
    "\n",
    "    # train/test inside\n",
    "    train_list = glob.glob(osp.join(data_path, 'train') + '/*')\n",
    "    val_list = glob.glob(osp.join(data_path, 'val') + '/*')\n",
    "    test_list = glob.glob(osp.join(data_path, 'test') + '/*')\n",
    "\n",
    "    train_name = []\n",
    "    val_name= []\n",
    "    test_name = []\n",
    "    for i in train_list:\n",
    "        train_name.append(i[:-3])\n",
    "    for i in val_list:\n",
    "        val_name.append(i[:-3])\n",
    "    for i in test_list:\n",
    "        test_name.append(i[:-3])\n",
    "    train_name = list(set(train_name)) #remove repeated name\n",
    "    val_name = list(set(val_name))\n",
    "    test_name = list(set(test_name))\n",
    "\n",
    "    n_bins=n_octave*bins_per_octave\n",
    "\n",
    "\n",
    "    # training set processing\n",
    "    for i in train_name:\n",
    "        processing(i, n_bins, output_train, sr=sr, bins_per_octave=bins_per_octave,\n",
    "                RangeMIDInotes=RangeMIDInotes)\n",
    "    for i in val_name:\n",
    "        processing(i, n_bins, output_val, sr=sr, bins_per_octave=bins_per_octave,\n",
    "                RangeMIDInotes=RangeMIDInotes)\n",
    "    # testing set processing# testing set processing\n",
    "    for i in test_name:\n",
    "        processing(i, n_bins, output_test, sr=sr, bins_per_octave=bins_per_octave,\n",
    "                RangeMIDInotes=RangeMIDInotes)\n",
    "\n",
    "    print('Data preprocessing completed')\n",
    "    if delete:\n",
    "        os.system(\"rm -r %s\" % (data_path))\n",
    "\n",
    "def processing(data_path,n_bins,output,sr=sr, bins_per_octave=bins_per_octave,\n",
    "                  RangeMIDInotes=RangeMIDInotes):\n",
    "    save_path=osp.join(output,data_path.split('\\\\')[-1][:-1])\n",
    "    # input:  CQT spectrum form raw audio\n",
    "    audio_path_train = data_path + 'wav'\n",
    "    print(audio_path_train)\n",
    "    x, sr = lb.load(audio_path_train, sr=sr)\n",
    "    CQT_spectrum = lb.cqt(x, sr=sr, bins_per_octave=bins_per_octave, n_bins=n_bins,\n",
    "                                fmin=lb.note_to_hz('A0'))\n",
    "    CQT = np.transpose(np.abs(CQT_spectrum))\n",
    "\n",
    "    # Ground-truth: convert midi to pianoroll\n",
    "    midi_path_train = data_path + 'mid'\n",
    "    Ground_truth_mat=midi2mat(midi_path_train, len(x), CQT.shape[0], sr, RangeMIDInotes=RangeMIDInotes)\n",
    "    midi_train = np.transpose(Ground_truth_mat)\n",
    "\n",
    "    if midi_train.shape[0]<CQT.shape[0]:\n",
    "    #midi length<CQT length, cut CQT \n",
    "        CQT=CQT[:midi_train.shape[0],:]\n",
    "    np.save(save_path + '_CQT.npy', CQT)\n",
    "    np.save(save_path + '_label.npy', midi_train)\n",
    "    print(\"Preprocessing of file %s completed...\" % (data_path[:-1]))\n",
    "\n",
    "def midi2mat(midi_path_train, length, CQT_len, sr, RangeMIDInotes=RangeMIDInotes):\n",
    "    midi_data = pretty_midi.PrettyMIDI(midi_path_train)\n",
    "    pianoRoll = midi_data.instruments[0].get_piano_roll(fs=CQT_len * sr/length)\n",
    "    Ground_truth_mat = (pianoRoll[RangeMIDInotes[0]:RangeMIDInotes[1] + 1, :CQT_len] > 0) #bool mat\n",
    "    return Ground_truth_mat\n",
    "\n",
    "        \n",
    "        \n",
    "        \n",
    "\n"
   ]
  },
  {
   "cell_type": "code",
   "execution_count": 10,
   "metadata": {},
   "outputs": [],
   "source": [
    "\n",
    "save_path = osp.join(osp.dirname(osp.realpath(data_path)), 'preprocessed_data')\n",
    "if not osp.exists(save_path):\n",
    "    os.makedirs(save_path)\n",
    "output_train = osp.join(save_path, 'train')\n",
    "output_val = osp.join(save_path, 'val')\n",
    "output_test = osp.join(save_path, 'test')"
   ]
  },
  {
   "cell_type": "code",
   "execution_count": 11,
   "metadata": {},
   "outputs": [
    {
     "data": {
      "text/plain": [
       "'C:\\\\proj18797\\\\preprocessed_data\\\\train'"
      ]
     },
     "execution_count": 11,
     "metadata": {},
     "output_type": "execute_result"
    }
   ],
   "source": [
    "output_train "
   ]
  },
  {
   "cell_type": "code",
   "execution_count": 12,
   "metadata": {},
   "outputs": [],
   "source": [
    "if not osp.exists(output_train):\n",
    "    os.makedirs(output_train)\n",
    "\n",
    "if not osp.exists(output_val):\n",
    "    os.makedirs(output_val)\n",
    "\n",
    "if not osp.exists(output_test):\n",
    "    os.makedirs(output_test)"
   ]
  },
  {
   "cell_type": "code",
   "execution_count": 13,
   "metadata": {},
   "outputs": [],
   "source": [
    "train_list = glob.glob(osp.join(data_path, 'train') + '/*')\n",
    "val_list = glob.glob(osp.join(data_path, 'val') + '/*')\n",
    "test_list = glob.glob(osp.join(data_path, 'test') + '/*')\n",
    "\n",
    "train_name = []\n",
    "val_name= []\n",
    "test_name = []"
   ]
  },
  {
   "cell_type": "code",
   "execution_count": 14,
   "metadata": {},
   "outputs": [
    {
     "data": {
      "text/plain": [
       "['C:\\\\proj18797\\\\data\\\\train\\\\br_im2.mid',\n",
       " 'C:\\\\proj18797\\\\data\\\\train\\\\br_im2.wav',\n",
       " 'C:\\\\proj18797\\\\data\\\\train\\\\chpn_op10_e01.mid',\n",
       " 'C:\\\\proj18797\\\\data\\\\train\\\\chpn_op10_e01.wav',\n",
       " 'C:\\\\proj18797\\\\data\\\\train\\\\elise.mid',\n",
       " 'C:\\\\proj18797\\\\data\\\\train\\\\elise.wav',\n",
       " 'C:\\\\proj18797\\\\data\\\\train\\\\mond_2_format0.mid',\n",
       " 'C:\\\\proj18797\\\\data\\\\train\\\\mond_2_format0.wav',\n",
       " 'C:\\\\proj18797\\\\data\\\\train\\\\mz_545_3_format0.mid',\n",
       " 'C:\\\\proj18797\\\\data\\\\train\\\\mz_545_3_format0.wav']"
      ]
     },
     "execution_count": 14,
     "metadata": {},
     "output_type": "execute_result"
    }
   ],
   "source": [
    "train_list"
   ]
  },
  {
   "cell_type": "code",
   "execution_count": 15,
   "metadata": {},
   "outputs": [],
   "source": [
    "for i in train_list:\n",
    "    train_name.append(i[:-3])\n",
    "for i in val_list:\n",
    "    val_name.append(i[:-3])\n",
    "for i in test_list:\n",
    "    test_name.append(i[:-3])"
   ]
  },
  {
   "cell_type": "code",
   "execution_count": 16,
   "metadata": {},
   "outputs": [
    {
     "data": {
      "text/plain": [
       "['C:\\\\proj18797\\\\data\\\\train\\\\br_im2.',\n",
       " 'C:\\\\proj18797\\\\data\\\\train\\\\br_im2.',\n",
       " 'C:\\\\proj18797\\\\data\\\\train\\\\chpn_op10_e01.',\n",
       " 'C:\\\\proj18797\\\\data\\\\train\\\\chpn_op10_e01.',\n",
       " 'C:\\\\proj18797\\\\data\\\\train\\\\elise.',\n",
       " 'C:\\\\proj18797\\\\data\\\\train\\\\elise.',\n",
       " 'C:\\\\proj18797\\\\data\\\\train\\\\mond_2_format0.',\n",
       " 'C:\\\\proj18797\\\\data\\\\train\\\\mond_2_format0.',\n",
       " 'C:\\\\proj18797\\\\data\\\\train\\\\mz_545_3_format0.',\n",
       " 'C:\\\\proj18797\\\\data\\\\train\\\\mz_545_3_format0.']"
      ]
     },
     "execution_count": 16,
     "metadata": {},
     "output_type": "execute_result"
    }
   ],
   "source": [
    "train_name"
   ]
  },
  {
   "cell_type": "code",
   "execution_count": 17,
   "metadata": {},
   "outputs": [],
   "source": [
    "train_name = list(set(train_name))\n",
    "val_name = list(set(val_name))\n",
    "test_name = list(set(test_name))"
   ]
  },
  {
   "cell_type": "code",
   "execution_count": 18,
   "metadata": {},
   "outputs": [
    {
     "data": {
      "text/plain": [
       "['C:\\\\proj18797\\\\data\\\\train\\\\mz_545_3_format0.',\n",
       " 'C:\\\\proj18797\\\\data\\\\train\\\\chpn_op10_e01.',\n",
       " 'C:\\\\proj18797\\\\data\\\\train\\\\br_im2.',\n",
       " 'C:\\\\proj18797\\\\data\\\\train\\\\mond_2_format0.',\n",
       " 'C:\\\\proj18797\\\\data\\\\train\\\\elise.']"
      ]
     },
     "execution_count": 18,
     "metadata": {},
     "output_type": "execute_result"
    }
   ],
   "source": [
    "train_name"
   ]
  },
  {
   "cell_type": "code",
   "execution_count": 19,
   "metadata": {},
   "outputs": [],
   "source": [
    "n_bins=n_octave*bins_per_octave"
   ]
  },
  {
   "cell_type": "code",
   "execution_count": 20,
   "metadata": {},
   "outputs": [
    {
     "data": {
      "text/plain": [
       "252"
      ]
     },
     "execution_count": 20,
     "metadata": {},
     "output_type": "execute_result"
    }
   ],
   "source": [
    "n_bins"
   ]
  },
  {
   "cell_type": "code",
   "execution_count": 22,
   "metadata": {},
   "outputs": [],
   "source": [
    "data_path=train_name[1]"
   ]
  },
  {
   "cell_type": "code",
   "execution_count": 23,
   "metadata": {},
   "outputs": [
    {
     "data": {
      "text/plain": [
       "'C:\\\\proj18797\\\\data\\\\train\\\\chpn_op10_e01.'"
      ]
     },
     "execution_count": 23,
     "metadata": {},
     "output_type": "execute_result"
    }
   ],
   "source": [
    "data_path"
   ]
  },
  {
   "cell_type": "code",
   "execution_count": 25,
   "metadata": {},
   "outputs": [],
   "source": [
    "output=output_train"
   ]
  },
  {
   "cell_type": "code",
   "execution_count": 26,
   "metadata": {},
   "outputs": [
    {
     "data": {
      "text/plain": [
       "'C:\\\\proj18797\\\\preprocessed_data\\\\train'"
      ]
     },
     "execution_count": 26,
     "metadata": {},
     "output_type": "execute_result"
    }
   ],
   "source": [
    "output"
   ]
  },
  {
   "cell_type": "code",
   "execution_count": 34,
   "metadata": {},
   "outputs": [],
   "source": [
    "save_path=osp.join(output,data_path.split('\\\\')[-1][:-1])"
   ]
  },
  {
   "cell_type": "code",
   "execution_count": 35,
   "metadata": {},
   "outputs": [
    {
     "data": {
      "text/plain": [
       "'C:\\\\proj18797\\\\preprocessed_data\\\\train\\\\chpn_op10_e01'"
      ]
     },
     "execution_count": 35,
     "metadata": {},
     "output_type": "execute_result"
    }
   ],
   "source": [
    "save_path"
   ]
  },
  {
   "cell_type": "code",
   "execution_count": 37,
   "metadata": {},
   "outputs": [
    {
     "data": {
      "text/plain": [
       "'chpn_op10_e01'"
      ]
     },
     "execution_count": 37,
     "metadata": {},
     "output_type": "execute_result"
    }
   ],
   "source": [
    "data_path.split('\\\\')[-1][:-1]"
   ]
  },
  {
   "cell_type": "code",
   "execution_count": 32,
   "metadata": {},
   "outputs": [
    {
     "data": {
      "text/plain": [
       "['C:', 'proj18797', 'data', 'train', 'chpn_op10_e01.']"
      ]
     },
     "execution_count": 32,
     "metadata": {},
     "output_type": "execute_result"
    }
   ],
   "source": [
    "data_path.split('\\\\')"
   ]
  },
  {
   "cell_type": "code",
   "execution_count": 38,
   "metadata": {},
   "outputs": [],
   "source": [
    "audio_path_train = data_path + 'wav'"
   ]
  },
  {
   "cell_type": "code",
   "execution_count": 39,
   "metadata": {},
   "outputs": [
    {
     "data": {
      "text/plain": [
       "'C:\\\\proj18797\\\\data\\\\train\\\\chpn_op10_e01.wav'"
      ]
     },
     "execution_count": 39,
     "metadata": {},
     "output_type": "execute_result"
    }
   ],
   "source": [
    "audio_path_train"
   ]
  },
  {
   "cell_type": "code",
   "execution_count": 40,
   "metadata": {},
   "outputs": [],
   "source": [
    "x, sr = lb.load(audio_path_train, sr=sr)"
   ]
  },
  {
   "cell_type": "code",
   "execution_count": 41,
   "metadata": {},
   "outputs": [
    {
     "data": {
      "text/plain": [
       "array([-2.1834863e-05, -2.3454306e-05,  1.1095764e-05, ...,\n",
       "       -9.1264548e-05, -7.0182650e-05,  0.0000000e+00], dtype=float32)"
      ]
     },
     "execution_count": 41,
     "metadata": {},
     "output_type": "execute_result"
    }
   ],
   "source": [
    "x"
   ]
  },
  {
   "cell_type": "code",
   "execution_count": 42,
   "metadata": {},
   "outputs": [
    {
     "data": {
      "text/plain": [
       "44100.0"
      ]
     },
     "execution_count": 42,
     "metadata": {},
     "output_type": "execute_result"
    }
   ],
   "source": [
    "sr"
   ]
  },
  {
   "cell_type": "code",
   "execution_count": 44,
   "metadata": {},
   "outputs": [],
   "source": [
    "CQT_spectrum = lb.cqt(x, sr=sr, bins_per_octave=bins_per_octave, n_bins=n_bins,\n",
    "                                fmin=lb.note_to_hz('A0'))"
   ]
  },
  {
   "cell_type": "code",
   "execution_count": 45,
   "metadata": {},
   "outputs": [
    {
     "data": {
      "text/plain": [
       "array([[-4.38115622e-04+5.66738198e-06j,  1.31551941e-04-4.55516620e-04j,\n",
       "         3.44203774e-04+2.88036345e-04j, ...,\n",
       "        -1.93062938e-06+3.67398201e-06j,  1.80654785e-07-1.75191231e-06j,\n",
       "         2.56521408e-06-2.21241249e-06j],\n",
       "       [ 9.90325723e-04+1.62466842e-06j, -4.60830527e-04+8.99581630e-04j,\n",
       "        -5.46720856e-04-8.31867557e-04j, ...,\n",
       "         1.44917731e-07+3.85626588e-06j, -5.39163891e-06-2.60052611e-06j,\n",
       "         3.93301486e-06-1.63113028e-06j],\n",
       "       [ 1.62589950e-03+1.75491036e-06j, -8.12891054e-04+1.42028572e-03j,\n",
       "        -8.03448490e-04-1.41214582e-03j, ...,\n",
       "         5.01035309e-07+3.38294609e-06j, -4.12903756e-06-1.93693146e-06j,\n",
       "         3.21349260e-06-1.53213272e-06j],\n",
       "       ...,\n",
       "       [ 1.20218161e-03-1.38424421e-05j, -2.88339247e-04+2.49274162e-03j,\n",
       "        -1.24113111e-03+7.10609782e-04j, ...,\n",
       "         1.22717953e-07+7.86818394e-09j,  7.34961658e-08+1.63909313e-07j,\n",
       "        -1.30372660e-05+6.17629762e-07j],\n",
       "       [-3.76717399e-04-4.77761183e-07j, -1.60807440e-03+3.53403059e-03j,\n",
       "        -2.68355445e-04+2.74088858e-03j, ...,\n",
       "        -4.37093217e-08+7.84253878e-10j, -4.48023862e-08-7.46639976e-09j,\n",
       "        -2.57064598e-06+1.28069853e-05j],\n",
       "       [-8.64272257e-04-4.29641384e-06j, -7.80062898e-04+2.54091279e-03j,\n",
       "         2.83069751e-03+2.94868546e-03j, ...,\n",
       "        -1.18084646e-08-2.35391702e-10j,  1.17480192e-09-3.88101323e-09j,\n",
       "         1.23078222e-05+5.25195037e-06j]])"
      ]
     },
     "execution_count": 45,
     "metadata": {},
     "output_type": "execute_result"
    }
   ],
   "source": [
    "CQT_spectrum"
   ]
  },
  {
   "cell_type": "code",
   "execution_count": 47,
   "metadata": {},
   "outputs": [
    {
     "data": {
      "text/plain": [
       "(252, 9688)"
      ]
     },
     "execution_count": 47,
     "metadata": {},
     "output_type": "execute_result"
    }
   ],
   "source": [
    "CQT_spectrum.shape"
   ]
  },
  {
   "cell_type": "code",
   "execution_count": 48,
   "metadata": {},
   "outputs": [
    {
     "data": {
      "text/plain": [
       "(4959892,)"
      ]
     },
     "execution_count": 48,
     "metadata": {},
     "output_type": "execute_result"
    }
   ],
   "source": [
    "x.shape"
   ]
  },
  {
   "cell_type": "code",
   "execution_count": 49,
   "metadata": {},
   "outputs": [],
   "source": [
    "CQT = np.transpose(np.abs(CQT_spectrum))"
   ]
  },
  {
   "cell_type": "code",
   "execution_count": 54,
   "metadata": {},
   "outputs": [
    {
     "data": {
      "text/plain": [
       "(9688, 252)"
      ]
     },
     "execution_count": 54,
     "metadata": {},
     "output_type": "execute_result"
    }
   ],
   "source": [
    "CQT.shape"
   ]
  },
  {
   "cell_type": "code",
   "execution_count": 56,
   "metadata": {},
   "outputs": [
    {
     "data": {
      "text/plain": [
       "'C:\\\\proj18797\\\\data\\\\train\\\\chpn_op10_e01.mid'"
      ]
     },
     "execution_count": 56,
     "metadata": {},
     "output_type": "execute_result"
    }
   ],
   "source": [
    "midi_path_train = data_path + 'mid'\n",
    "midi_path_train"
   ]
  },
  {
   "cell_type": "code",
   "execution_count": 61,
   "metadata": {},
   "outputs": [],
   "source": [
    "midi_data = pretty_midi.PrettyMIDI(midi_path_train)"
   ]
  },
  {
   "cell_type": "code",
   "execution_count": 62,
   "metadata": {},
   "outputs": [
    {
     "data": {
      "text/plain": [
       "<pretty_midi.pretty_midi.PrettyMIDI at 0x79ff048>"
      ]
     },
     "execution_count": 62,
     "metadata": {},
     "output_type": "execute_result"
    }
   ],
   "source": [
    "midi_data"
   ]
  },
  {
   "cell_type": "code",
   "execution_count": 65,
   "metadata": {},
   "outputs": [
    {
     "data": {
      "text/plain": [
       "9688"
      ]
     },
     "execution_count": 65,
     "metadata": {},
     "output_type": "execute_result"
    }
   ],
   "source": [
    "CQT_len=CQT.shape[0]\n",
    "CQT_len"
   ]
  },
  {
   "cell_type": "code",
   "execution_count": 67,
   "metadata": {},
   "outputs": [
    {
     "data": {
      "text/plain": [
       "4959892"
      ]
     },
     "execution_count": 67,
     "metadata": {},
     "output_type": "execute_result"
    }
   ],
   "source": [
    "length=len(x)\n",
    "length"
   ]
  },
  {
   "cell_type": "code",
   "execution_count": 76,
   "metadata": {},
   "outputs": [
    {
     "data": {
      "text/plain": [
       "(128, 10859)"
      ]
     },
     "execution_count": 76,
     "metadata": {},
     "output_type": "execute_result"
    }
   ],
   "source": [
    "pianoRoll = midi_data.instruments[0].get_piano_roll(fs=100)\n",
    "pianoRoll.shape"
   ]
  },
  {
   "cell_type": "code",
   "execution_count": 69,
   "metadata": {},
   "outputs": [
    {
     "data": {
      "text/plain": [
       "Instrument(program=0, is_drum=False, name=\"Piano right\")"
      ]
     },
     "execution_count": 69,
     "metadata": {},
     "output_type": "execute_result"
    }
   ],
   "source": [
    "midi_data.instruments[0]"
   ]
  },
  {
   "cell_type": "code",
   "execution_count": 71,
   "metadata": {},
   "outputs": [
    {
     "data": {
      "text/plain": [
       "86.13913367468486"
      ]
     },
     "execution_count": 71,
     "metadata": {},
     "output_type": "execute_result"
    }
   ],
   "source": [
    "fs=CQT_len * sr/length\n",
    "fs"
   ]
  },
  {
   "cell_type": "code",
   "execution_count": 77,
   "metadata": {},
   "outputs": [],
   "source": [
    "Ground_truth_mat = (pianoRoll[RangeMIDInotes[0]:RangeMIDInotes[1] + 1, :CQT_len] > 0)"
   ]
  },
  {
   "cell_type": "code",
   "execution_count": 78,
   "metadata": {},
   "outputs": [
    {
     "data": {
      "text/plain": [
       "array([[False, False, False, ..., False, False, False],\n",
       "       [False, False, False, ..., False, False, False],\n",
       "       [False, False, False, ..., False, False, False],\n",
       "       ...,\n",
       "       [False, False, False, ..., False, False, False],\n",
       "       [False, False, False, ..., False, False, False],\n",
       "       [False, False, False, ..., False, False, False]])"
      ]
     },
     "execution_count": 78,
     "metadata": {},
     "output_type": "execute_result"
    }
   ],
   "source": [
    "Ground_truth_mat"
   ]
  },
  {
   "cell_type": "code",
   "execution_count": 80,
   "metadata": {},
   "outputs": [],
   "source": [
    "    Ground_truth_mat=midi2mat(midi_path_train, len(x), CQT.shape[0], sr, RangeMIDInotes=RangeMIDInotes)\n",
    "    midi_train = np.transpose(Ground_truth_mat)\n",
    "\n",
    "    if midi_train.shape[0]<CQT.shape[0]:\n",
    "    #midi length<CQT length, cut CQT \n",
    "        CQT=CQT[:midi_train.shape[0],:]"
   ]
  },
  {
   "cell_type": "code",
   "execution_count": 81,
   "metadata": {},
   "outputs": [
    {
     "data": {
      "text/plain": [
       "(9354, 252)"
      ]
     },
     "execution_count": 81,
     "metadata": {},
     "output_type": "execute_result"
    }
   ],
   "source": [
    "CQT.shape"
   ]
  },
  {
   "cell_type": "code",
   "execution_count": 82,
   "metadata": {},
   "outputs": [],
   "source": [
    "    np.save(save_path + '_CQT.npy', CQT)\n",
    "    np.save(save_path + '_label.npy', midi_train)"
   ]
  },
  {
   "cell_type": "code",
   "execution_count": 90,
   "metadata": {
    "scrolled": true
   },
   "outputs": [
    {
     "name": "stdout",
     "output_type": "stream",
     "text": [
      "Preprocessing of file C:\\proj18797\\data\\train\\chpn_op10_e01 completed...\n",
      "Preprocessing of file C:\\proj18797\\data\\train\\mond_2_format0 completed...\n",
      "Preprocessing of file C:\\proj18797\\data\\train\\elise completed...\n",
      "Preprocessing of file C:\\proj18797\\data\\train\\br_im2 completed...\n"
     ]
    },
    {
     "ename": "FileNotFoundError",
     "evalue": "[Errno 2] No such file or directory: 'C:\\\\proj18797\\\\data\\\\train\\\\preprocessed_dwav'",
     "output_type": "error",
     "traceback": [
      "\u001b[1;31m---------------------------------------------------------------------------\u001b[0m",
      "\u001b[1;31mFileNotFoundError\u001b[0m                         Traceback (most recent call last)",
      "\u001b[1;32m<ipython-input-90-6438b8d375dc>\u001b[0m in \u001b[0;36m<module>\u001b[1;34m()\u001b[0m\n\u001b[1;32m----> 1\u001b[1;33m \u001b[0mpreprocessing\u001b[0m\u001b[1;33m(\u001b[0m\u001b[0mdata_path\u001b[0m\u001b[1;33m)\u001b[0m\u001b[1;33m\u001b[0m\u001b[0m\n\u001b[0m",
      "\u001b[1;32m<ipython-input-89-ec7711613e40>\u001b[0m in \u001b[0;36mpreprocessing\u001b[1;34m(data_path, sr, bins_per_octave, n_octave, RangeMIDInotes, save_path, n_worker, delete)\u001b[0m\n\u001b[0;32m    256\u001b[0m         \u001b[1;32mfor\u001b[0m \u001b[0mi\u001b[0m \u001b[1;32min\u001b[0m \u001b[0mtrain_name\u001b[0m\u001b[1;33m:\u001b[0m\u001b[1;33m\u001b[0m\u001b[0m\n\u001b[0;32m    257\u001b[0m             processing(i, n_bins, output_train, sr=sr, bins_per_octave=bins_per_octave,\n\u001b[1;32m--> 258\u001b[1;33m                     RangeMIDInotes=RangeMIDInotes)\n\u001b[0m\u001b[0;32m    259\u001b[0m         \u001b[1;32mfor\u001b[0m \u001b[0mi\u001b[0m \u001b[1;32min\u001b[0m \u001b[0mval_name\u001b[0m\u001b[1;33m:\u001b[0m\u001b[1;33m\u001b[0m\u001b[0m\n\u001b[0;32m    260\u001b[0m             processing(i, n_bins, output_val, sr=sr, bins_per_octave=bins_per_octave,\n",
      "\u001b[1;32m<ipython-input-89-ec7711613e40>\u001b[0m in \u001b[0;36mprocessing\u001b[1;34m(data_path, n_bins, output, sr, bins_per_octave, RangeMIDInotes)\u001b[0m\n\u001b[0;32m    296\u001b[0m     \u001b[1;31m# input:  CQT spectrum form raw audio\u001b[0m\u001b[1;33m\u001b[0m\u001b[1;33m\u001b[0m\u001b[0m\n\u001b[0;32m    297\u001b[0m     \u001b[0maudio_path_train\u001b[0m \u001b[1;33m=\u001b[0m \u001b[0mdata_path\u001b[0m \u001b[1;33m+\u001b[0m \u001b[1;34m'wav'\u001b[0m\u001b[1;33m\u001b[0m\u001b[0m\n\u001b[1;32m--> 298\u001b[1;33m     \u001b[0mx\u001b[0m\u001b[1;33m,\u001b[0m \u001b[0msr\u001b[0m \u001b[1;33m=\u001b[0m \u001b[0mlb\u001b[0m\u001b[1;33m.\u001b[0m\u001b[0mload\u001b[0m\u001b[1;33m(\u001b[0m\u001b[0maudio_path_train\u001b[0m\u001b[1;33m,\u001b[0m \u001b[0msr\u001b[0m\u001b[1;33m=\u001b[0m\u001b[0msr\u001b[0m\u001b[1;33m)\u001b[0m\u001b[1;33m\u001b[0m\u001b[0m\n\u001b[0m\u001b[0;32m    299\u001b[0m     CQT_spectrum = lb.cqt(x, sr=sr, bins_per_octave=bins_per_octave, n_bins=n_bins,\n\u001b[0;32m    300\u001b[0m                                 fmin=lb.note_to_hz('A0'))\n",
      "\u001b[1;32m~\\Desktop\\PhD\\1st semester\\DL_AMT_CNN-master\\librosa\\core\\audio.py\u001b[0m in \u001b[0;36mload\u001b[1;34m(path, sr, mono, offset, duration, dtype, res_type)\u001b[0m\n\u001b[0;32m    110\u001b[0m \u001b[1;33m\u001b[0m\u001b[0m\n\u001b[0;32m    111\u001b[0m     \u001b[0my\u001b[0m \u001b[1;33m=\u001b[0m \u001b[1;33m[\u001b[0m\u001b[1;33m]\u001b[0m\u001b[1;33m\u001b[0m\u001b[0m\n\u001b[1;32m--> 112\u001b[1;33m     \u001b[1;32mwith\u001b[0m \u001b[0maudioread\u001b[0m\u001b[1;33m.\u001b[0m\u001b[0maudio_open\u001b[0m\u001b[1;33m(\u001b[0m\u001b[0mos\u001b[0m\u001b[1;33m.\u001b[0m\u001b[0mpath\u001b[0m\u001b[1;33m.\u001b[0m\u001b[0mrealpath\u001b[0m\u001b[1;33m(\u001b[0m\u001b[0mpath\u001b[0m\u001b[1;33m)\u001b[0m\u001b[1;33m)\u001b[0m \u001b[1;32mas\u001b[0m \u001b[0minput_file\u001b[0m\u001b[1;33m:\u001b[0m\u001b[1;33m\u001b[0m\u001b[0m\n\u001b[0m\u001b[0;32m    113\u001b[0m         \u001b[0msr_native\u001b[0m \u001b[1;33m=\u001b[0m \u001b[0minput_file\u001b[0m\u001b[1;33m.\u001b[0m\u001b[0msamplerate\u001b[0m\u001b[1;33m\u001b[0m\u001b[0m\n\u001b[0;32m    114\u001b[0m         \u001b[0mn_channels\u001b[0m \u001b[1;33m=\u001b[0m \u001b[0minput_file\u001b[0m\u001b[1;33m.\u001b[0m\u001b[0mchannels\u001b[0m\u001b[1;33m\u001b[0m\u001b[0m\n",
      "\u001b[1;32m~\\Desktop\\PhD\\1st semester\\DL_AMT_CNN-master\\audioread\\__init__.py\u001b[0m in \u001b[0;36maudio_open\u001b[1;34m(path)\u001b[0m\n\u001b[0;32m     78\u001b[0m     \u001b[1;32mfrom\u001b[0m \u001b[1;33m.\u001b[0m \u001b[1;32mimport\u001b[0m \u001b[0mrawread\u001b[0m\u001b[1;33m\u001b[0m\u001b[0m\n\u001b[0;32m     79\u001b[0m     \u001b[1;32mtry\u001b[0m\u001b[1;33m:\u001b[0m\u001b[1;33m\u001b[0m\u001b[0m\n\u001b[1;32m---> 80\u001b[1;33m         \u001b[1;32mreturn\u001b[0m \u001b[0mrawread\u001b[0m\u001b[1;33m.\u001b[0m\u001b[0mRawAudioFile\u001b[0m\u001b[1;33m(\u001b[0m\u001b[0mpath\u001b[0m\u001b[1;33m)\u001b[0m\u001b[1;33m\u001b[0m\u001b[0m\n\u001b[0m\u001b[0;32m     81\u001b[0m     \u001b[1;32mexcept\u001b[0m \u001b[0mDecodeError\u001b[0m\u001b[1;33m:\u001b[0m\u001b[1;33m\u001b[0m\u001b[0m\n\u001b[0;32m     82\u001b[0m         \u001b[1;32mpass\u001b[0m\u001b[1;33m\u001b[0m\u001b[0m\n",
      "\u001b[1;32m~\\Desktop\\PhD\\1st semester\\DL_AMT_CNN-master\\audioread\\rawread.py\u001b[0m in \u001b[0;36m__init__\u001b[1;34m(self, filename)\u001b[0m\n\u001b[0;32m     59\u001b[0m     \"\"\"\n\u001b[0;32m     60\u001b[0m     \u001b[1;32mdef\u001b[0m \u001b[0m__init__\u001b[0m\u001b[1;33m(\u001b[0m\u001b[0mself\u001b[0m\u001b[1;33m,\u001b[0m \u001b[0mfilename\u001b[0m\u001b[1;33m)\u001b[0m\u001b[1;33m:\u001b[0m\u001b[1;33m\u001b[0m\u001b[0m\n\u001b[1;32m---> 61\u001b[1;33m         \u001b[0mself\u001b[0m\u001b[1;33m.\u001b[0m\u001b[0m_fh\u001b[0m \u001b[1;33m=\u001b[0m \u001b[0mopen\u001b[0m\u001b[1;33m(\u001b[0m\u001b[0mfilename\u001b[0m\u001b[1;33m,\u001b[0m \u001b[1;34m'rb'\u001b[0m\u001b[1;33m)\u001b[0m\u001b[1;33m\u001b[0m\u001b[0m\n\u001b[0m\u001b[0;32m     62\u001b[0m \u001b[1;33m\u001b[0m\u001b[0m\n\u001b[0;32m     63\u001b[0m         \u001b[1;32mtry\u001b[0m\u001b[1;33m:\u001b[0m\u001b[1;33m\u001b[0m\u001b[0m\n",
      "\u001b[1;31mFileNotFoundError\u001b[0m: [Errno 2] No such file or directory: 'C:\\\\proj18797\\\\data\\\\train\\\\preprocessed_dwav'"
     ]
    }
   ],
   "source": [
    "preprocessing(data_path)"
   ]
  },
  {
   "cell_type": "code",
   "execution_count": 91,
   "metadata": {},
   "outputs": [
    {
     "data": {
      "text/plain": [
       "['C:\\\\proj18797\\\\data\\\\train\\\\mz_545_3_format0.',\n",
       " 'C:\\\\proj18797\\\\data\\\\train\\\\chpn_op10_e01.',\n",
       " 'C:\\\\proj18797\\\\data\\\\train\\\\br_im2.',\n",
       " 'C:\\\\proj18797\\\\data\\\\train\\\\mond_2_format0.',\n",
       " 'C:\\\\proj18797\\\\data\\\\train\\\\elise.']"
      ]
     },
     "execution_count": 91,
     "metadata": {},
     "output_type": "execute_result"
    }
   ],
   "source": [
    "train_name"
   ]
  },
  {
   "cell_type": "code",
   "execution_count": 4,
   "metadata": {},
   "outputs": [
    {
     "name": "stdout",
     "output_type": "stream",
     "text": [
      "C:\\proj18797\\data\\train\\mz_545_3_format0.wav\n",
      "Preprocessing of file C:\\proj18797\\data\\train\\mz_545_3_format0 completed...\n",
      "C:\\proj18797\\data\\train\\mond_2_format0.wav\n",
      "Preprocessing of file C:\\proj18797\\data\\train\\mond_2_format0 completed...\n",
      "C:\\proj18797\\data\\train\\elise.wav\n"
     ]
    },
    {
     "ename": "KeyboardInterrupt",
     "evalue": "",
     "output_type": "error",
     "traceback": [
      "\u001b[1;31m---------------------------------------------------------------------------\u001b[0m",
      "\u001b[1;31mKeyboardInterrupt\u001b[0m                         Traceback (most recent call last)",
      "\u001b[1;32m<ipython-input-4-6438b8d375dc>\u001b[0m in \u001b[0;36m<module>\u001b[1;34m()\u001b[0m\n\u001b[1;32m----> 1\u001b[1;33m \u001b[0mpreprocessing\u001b[0m\u001b[1;33m(\u001b[0m\u001b[0mdata_path\u001b[0m\u001b[1;33m)\u001b[0m\u001b[1;33m\u001b[0m\u001b[0m\n\u001b[0m",
      "\u001b[1;32m<ipython-input-3-16f6be00ee00>\u001b[0m in \u001b[0;36mpreprocessing\u001b[1;34m(data_path, sr, bins_per_octave, n_octave, RangeMIDInotes, save_path, n_worker, delete)\u001b[0m\n\u001b[0;32m     91\u001b[0m     \u001b[1;32mfor\u001b[0m \u001b[0mi\u001b[0m \u001b[1;32min\u001b[0m \u001b[0mtrain_name\u001b[0m\u001b[1;33m:\u001b[0m\u001b[1;33m\u001b[0m\u001b[0m\n\u001b[0;32m     92\u001b[0m         processing(i, n_bins, output_train, sr=sr, bins_per_octave=bins_per_octave,\n\u001b[1;32m---> 93\u001b[1;33m                 RangeMIDInotes=RangeMIDInotes)\n\u001b[0m\u001b[0;32m     94\u001b[0m     \u001b[1;32mfor\u001b[0m \u001b[0mi\u001b[0m \u001b[1;32min\u001b[0m \u001b[0mval_name\u001b[0m\u001b[1;33m:\u001b[0m\u001b[1;33m\u001b[0m\u001b[0m\n\u001b[0;32m     95\u001b[0m         processing(i, n_bins, output_val, sr=sr, bins_per_octave=bins_per_octave,\n",
      "\u001b[1;32m<ipython-input-3-16f6be00ee00>\u001b[0m in \u001b[0;36mprocessing\u001b[1;34m(data_path, n_bins, output, sr, bins_per_octave, RangeMIDInotes)\u001b[0m\n\u001b[0;32m    112\u001b[0m     \u001b[0mx\u001b[0m\u001b[1;33m,\u001b[0m \u001b[0msr\u001b[0m \u001b[1;33m=\u001b[0m \u001b[0mlb\u001b[0m\u001b[1;33m.\u001b[0m\u001b[0mload\u001b[0m\u001b[1;33m(\u001b[0m\u001b[0maudio_path_train\u001b[0m\u001b[1;33m,\u001b[0m \u001b[0msr\u001b[0m\u001b[1;33m=\u001b[0m\u001b[0msr\u001b[0m\u001b[1;33m)\u001b[0m\u001b[1;33m\u001b[0m\u001b[0m\n\u001b[0;32m    113\u001b[0m     CQT_spectrum = lb.cqt(x, sr=sr, bins_per_octave=bins_per_octave, n_bins=n_bins,\n\u001b[1;32m--> 114\u001b[1;33m                                 fmin=lb.note_to_hz('A0'))\n\u001b[0m\u001b[0;32m    115\u001b[0m     \u001b[0mCQT\u001b[0m \u001b[1;33m=\u001b[0m \u001b[0mnp\u001b[0m\u001b[1;33m.\u001b[0m\u001b[0mtranspose\u001b[0m\u001b[1;33m(\u001b[0m\u001b[0mnp\u001b[0m\u001b[1;33m.\u001b[0m\u001b[0mabs\u001b[0m\u001b[1;33m(\u001b[0m\u001b[0mCQT_spectrum\u001b[0m\u001b[1;33m)\u001b[0m\u001b[1;33m)\u001b[0m\u001b[1;33m\u001b[0m\u001b[0m\n\u001b[0;32m    116\u001b[0m \u001b[1;33m\u001b[0m\u001b[0m\n",
      "\u001b[1;32m~\\Desktop\\PhD\\1st semester\\DL_AMT_CNN-master\\librosa\\core\\constantq.py\u001b[0m in \u001b[0;36mcqt\u001b[1;34m(y, sr, hop_length, fmin, n_bins, bins_per_octave, tuning, filter_scale, norm, sparsity, window, scale, pad_mode)\u001b[0m\n\u001b[0;32m    249\u001b[0m \u001b[1;33m\u001b[0m\u001b[0m\n\u001b[0;32m    250\u001b[0m         \u001b[1;31m# Compute the cqt filter response and append to the stack\u001b[0m\u001b[1;33m\u001b[0m\u001b[1;33m\u001b[0m\u001b[0m\n\u001b[1;32m--> 251\u001b[1;33m         \u001b[0mcqt_resp\u001b[0m\u001b[1;33m.\u001b[0m\u001b[0mappend\u001b[0m\u001b[1;33m(\u001b[0m\u001b[0m__cqt_response\u001b[0m\u001b[1;33m(\u001b[0m\u001b[0mmy_y\u001b[0m\u001b[1;33m,\u001b[0m \u001b[0mn_fft\u001b[0m\u001b[1;33m,\u001b[0m \u001b[0mmy_hop\u001b[0m\u001b[1;33m,\u001b[0m \u001b[0mfft_basis\u001b[0m\u001b[1;33m,\u001b[0m \u001b[0mpad_mode\u001b[0m\u001b[1;33m)\u001b[0m\u001b[1;33m)\u001b[0m\u001b[1;33m\u001b[0m\u001b[0m\n\u001b[0m\u001b[0;32m    252\u001b[0m \u001b[1;33m\u001b[0m\u001b[0m\n\u001b[0;32m    253\u001b[0m     \u001b[0mC\u001b[0m \u001b[1;33m=\u001b[0m \u001b[0m__trim_stack\u001b[0m\u001b[1;33m(\u001b[0m\u001b[0mcqt_resp\u001b[0m\u001b[1;33m,\u001b[0m \u001b[0mn_bins\u001b[0m\u001b[1;33m)\u001b[0m\u001b[1;33m\u001b[0m\u001b[0m\n",
      "\u001b[1;32m~\\Desktop\\PhD\\1st semester\\DL_AMT_CNN-master\\librosa\\core\\constantq.py\u001b[0m in \u001b[0;36m__cqt_response\u001b[1;34m(y, n_fft, hop_length, fft_basis, mode)\u001b[0m\n\u001b[0;32m    784\u001b[0m \u001b[1;33m\u001b[0m\u001b[0m\n\u001b[0;32m    785\u001b[0m     \u001b[1;31m# And filter response energy\u001b[0m\u001b[1;33m\u001b[0m\u001b[1;33m\u001b[0m\u001b[0m\n\u001b[1;32m--> 786\u001b[1;33m     \u001b[1;32mreturn\u001b[0m \u001b[0mfft_basis\u001b[0m\u001b[1;33m.\u001b[0m\u001b[0mdot\u001b[0m\u001b[1;33m(\u001b[0m\u001b[0mD\u001b[0m\u001b[1;33m)\u001b[0m\u001b[1;33m\u001b[0m\u001b[0m\n\u001b[0m\u001b[0;32m    787\u001b[0m \u001b[1;33m\u001b[0m\u001b[0m\n\u001b[0;32m    788\u001b[0m \u001b[1;33m\u001b[0m\u001b[0m\n",
      "\u001b[1;32m~\\Anaconda3\\lib\\site-packages\\scipy\\sparse\\base.py\u001b[0m in \u001b[0;36mdot\u001b[1;34m(self, other)\u001b[0m\n\u001b[0;32m    359\u001b[0m \u001b[1;33m\u001b[0m\u001b[0m\n\u001b[0;32m    360\u001b[0m         \"\"\"\n\u001b[1;32m--> 361\u001b[1;33m         \u001b[1;32mreturn\u001b[0m \u001b[0mself\u001b[0m \u001b[1;33m*\u001b[0m \u001b[0mother\u001b[0m\u001b[1;33m\u001b[0m\u001b[0m\n\u001b[0m\u001b[0;32m    362\u001b[0m \u001b[1;33m\u001b[0m\u001b[0m\n\u001b[0;32m    363\u001b[0m     \u001b[1;32mdef\u001b[0m \u001b[0mpower\u001b[0m\u001b[1;33m(\u001b[0m\u001b[0mself\u001b[0m\u001b[1;33m,\u001b[0m \u001b[0mn\u001b[0m\u001b[1;33m,\u001b[0m \u001b[0mdtype\u001b[0m\u001b[1;33m=\u001b[0m\u001b[1;32mNone\u001b[0m\u001b[1;33m)\u001b[0m\u001b[1;33m:\u001b[0m\u001b[1;33m\u001b[0m\u001b[0m\n",
      "\u001b[1;32m~\\Anaconda3\\lib\\site-packages\\scipy\\sparse\\base.py\u001b[0m in \u001b[0;36m__mul__\u001b[1;34m(self, other)\u001b[0m\n\u001b[0;32m    468\u001b[0m                 \u001b[1;32mreturn\u001b[0m \u001b[0mself\u001b[0m\u001b[1;33m.\u001b[0m\u001b[0m_mul_vector\u001b[0m\u001b[1;33m(\u001b[0m\u001b[0mother\u001b[0m\u001b[1;33m.\u001b[0m\u001b[0mravel\u001b[0m\u001b[1;33m(\u001b[0m\u001b[1;33m)\u001b[0m\u001b[1;33m)\u001b[0m\u001b[1;33m.\u001b[0m\u001b[0mreshape\u001b[0m\u001b[1;33m(\u001b[0m\u001b[0mM\u001b[0m\u001b[1;33m,\u001b[0m \u001b[1;36m1\u001b[0m\u001b[1;33m)\u001b[0m\u001b[1;33m\u001b[0m\u001b[0m\n\u001b[0;32m    469\u001b[0m             \u001b[1;32melif\u001b[0m \u001b[0mother\u001b[0m\u001b[1;33m.\u001b[0m\u001b[0mndim\u001b[0m \u001b[1;33m==\u001b[0m \u001b[1;36m2\u001b[0m \u001b[1;32mand\u001b[0m \u001b[0mother\u001b[0m\u001b[1;33m.\u001b[0m\u001b[0mshape\u001b[0m\u001b[1;33m[\u001b[0m\u001b[1;36m0\u001b[0m\u001b[1;33m]\u001b[0m \u001b[1;33m==\u001b[0m \u001b[0mN\u001b[0m\u001b[1;33m:\u001b[0m\u001b[1;33m\u001b[0m\u001b[0m\n\u001b[1;32m--> 470\u001b[1;33m                 \u001b[1;32mreturn\u001b[0m \u001b[0mself\u001b[0m\u001b[1;33m.\u001b[0m\u001b[0m_mul_multivector\u001b[0m\u001b[1;33m(\u001b[0m\u001b[0mother\u001b[0m\u001b[1;33m)\u001b[0m\u001b[1;33m\u001b[0m\u001b[0m\n\u001b[0m\u001b[0;32m    471\u001b[0m \u001b[1;33m\u001b[0m\u001b[0m\n\u001b[0;32m    472\u001b[0m         \u001b[1;32mif\u001b[0m \u001b[0misscalarlike\u001b[0m\u001b[1;33m(\u001b[0m\u001b[0mother\u001b[0m\u001b[1;33m)\u001b[0m\u001b[1;33m:\u001b[0m\u001b[1;33m\u001b[0m\u001b[0m\n",
      "\u001b[1;32m~\\Anaconda3\\lib\\site-packages\\scipy\\sparse\\compressed.py\u001b[0m in \u001b[0;36m_mul_multivector\u001b[1;34m(self, other)\u001b[0m\n\u001b[0;32m    471\u001b[0m         \u001b[1;31m# csr_matvecs or csc_matvecs\u001b[0m\u001b[1;33m\u001b[0m\u001b[1;33m\u001b[0m\u001b[0m\n\u001b[0;32m    472\u001b[0m         \u001b[0mfn\u001b[0m \u001b[1;33m=\u001b[0m \u001b[0mgetattr\u001b[0m\u001b[1;33m(\u001b[0m\u001b[0m_sparsetools\u001b[0m\u001b[1;33m,\u001b[0m\u001b[0mself\u001b[0m\u001b[1;33m.\u001b[0m\u001b[0mformat\u001b[0m \u001b[1;33m+\u001b[0m \u001b[1;34m'_matvecs'\u001b[0m\u001b[1;33m)\u001b[0m\u001b[1;33m\u001b[0m\u001b[0m\n\u001b[1;32m--> 473\u001b[1;33m         \u001b[0mfn\u001b[0m\u001b[1;33m(\u001b[0m\u001b[0mM\u001b[0m\u001b[1;33m,\u001b[0m \u001b[0mN\u001b[0m\u001b[1;33m,\u001b[0m \u001b[0mn_vecs\u001b[0m\u001b[1;33m,\u001b[0m \u001b[0mself\u001b[0m\u001b[1;33m.\u001b[0m\u001b[0mindptr\u001b[0m\u001b[1;33m,\u001b[0m \u001b[0mself\u001b[0m\u001b[1;33m.\u001b[0m\u001b[0mindices\u001b[0m\u001b[1;33m,\u001b[0m \u001b[0mself\u001b[0m\u001b[1;33m.\u001b[0m\u001b[0mdata\u001b[0m\u001b[1;33m,\u001b[0m \u001b[0mother\u001b[0m\u001b[1;33m.\u001b[0m\u001b[0mravel\u001b[0m\u001b[1;33m(\u001b[0m\u001b[1;33m)\u001b[0m\u001b[1;33m,\u001b[0m \u001b[0mresult\u001b[0m\u001b[1;33m.\u001b[0m\u001b[0mravel\u001b[0m\u001b[1;33m(\u001b[0m\u001b[1;33m)\u001b[0m\u001b[1;33m)\u001b[0m\u001b[1;33m\u001b[0m\u001b[0m\n\u001b[0m\u001b[0;32m    474\u001b[0m \u001b[1;33m\u001b[0m\u001b[0m\n\u001b[0;32m    475\u001b[0m         \u001b[1;32mreturn\u001b[0m \u001b[0mresult\u001b[0m\u001b[1;33m\u001b[0m\u001b[0m\n",
      "\u001b[1;31mKeyboardInterrupt\u001b[0m: "
     ]
    }
   ],
   "source": [
    "preprocessing(data_path)"
   ]
  },
  {
   "cell_type": "code",
   "execution_count": 99,
   "metadata": {},
   "outputs": [],
   "source": [
    "    val_list = glob.glob(osp.join(data_path, 'val') + '/*')"
   ]
  },
  {
   "cell_type": "code",
   "execution_count": 100,
   "metadata": {},
   "outputs": [
    {
     "data": {
      "text/plain": [
       "['C:\\\\proj18797\\\\data\\\\val\\\\0021.wav',\n",
       " 'C:\\\\proj18797\\\\data\\\\val\\\\0022.wav',\n",
       " 'C:\\\\proj18797\\\\data\\\\val\\\\0023.wav',\n",
       " 'C:\\\\proj18797\\\\data\\\\val\\\\0024.wav',\n",
       " 'C:\\\\proj18797\\\\data\\\\val\\\\0025.wav',\n",
       " 'C:\\\\proj18797\\\\data\\\\val\\\\0026.wav',\n",
       " 'C:\\\\proj18797\\\\data\\\\val\\\\0027.wav',\n",
       " 'C:\\\\proj18797\\\\data\\\\val\\\\0028.wav',\n",
       " 'C:\\\\proj18797\\\\data\\\\val\\\\0029.wav',\n",
       " 'C:\\\\proj18797\\\\data\\\\val\\\\0030.wav',\n",
       " 'C:\\\\proj18797\\\\data\\\\val\\\\0031.wav',\n",
       " 'C:\\\\proj18797\\\\data\\\\val\\\\0032.wav',\n",
       " 'C:\\\\proj18797\\\\data\\\\val\\\\0033.wav',\n",
       " 'C:\\\\proj18797\\\\data\\\\val\\\\0034.wav',\n",
       " 'C:\\\\proj18797\\\\data\\\\val\\\\0035.wav',\n",
       " 'C:\\\\proj18797\\\\data\\\\val\\\\0036.wav',\n",
       " 'C:\\\\proj18797\\\\data\\\\val\\\\0037.wav',\n",
       " 'C:\\\\proj18797\\\\data\\\\val\\\\0038.wav',\n",
       " 'C:\\\\proj18797\\\\data\\\\val\\\\0039.wav',\n",
       " 'C:\\\\proj18797\\\\data\\\\val\\\\0040.wav',\n",
       " 'C:\\\\proj18797\\\\data\\\\val\\\\0041.wav',\n",
       " 'C:\\\\proj18797\\\\data\\\\val\\\\0042.wav',\n",
       " 'C:\\\\proj18797\\\\data\\\\val\\\\0043.wav',\n",
       " 'C:\\\\proj18797\\\\data\\\\val\\\\0044.wav',\n",
       " 'C:\\\\proj18797\\\\data\\\\val\\\\0045.wav',\n",
       " 'C:\\\\proj18797\\\\data\\\\val\\\\0046.wav',\n",
       " 'C:\\\\proj18797\\\\data\\\\val\\\\0047.wav',\n",
       " 'C:\\\\proj18797\\\\data\\\\val\\\\0048.wav',\n",
       " 'C:\\\\proj18797\\\\data\\\\val\\\\0049.wav',\n",
       " 'C:\\\\proj18797\\\\data\\\\val\\\\0050.wav',\n",
       " 'C:\\\\proj18797\\\\data\\\\val\\\\0051.wav',\n",
       " 'C:\\\\proj18797\\\\data\\\\val\\\\0052.wav',\n",
       " 'C:\\\\proj18797\\\\data\\\\val\\\\0053.wav',\n",
       " 'C:\\\\proj18797\\\\data\\\\val\\\\0054.wav',\n",
       " 'C:\\\\proj18797\\\\data\\\\val\\\\0055.wav',\n",
       " 'C:\\\\proj18797\\\\data\\\\val\\\\0056.wav',\n",
       " 'C:\\\\proj18797\\\\data\\\\val\\\\0057.wav',\n",
       " 'C:\\\\proj18797\\\\data\\\\val\\\\0058.wav',\n",
       " 'C:\\\\proj18797\\\\data\\\\val\\\\0059.wav',\n",
       " 'C:\\\\proj18797\\\\data\\\\val\\\\0060.wav',\n",
       " 'C:\\\\proj18797\\\\data\\\\val\\\\0061.wav',\n",
       " 'C:\\\\proj18797\\\\data\\\\val\\\\0062.wav',\n",
       " 'C:\\\\proj18797\\\\data\\\\val\\\\0063.wav',\n",
       " 'C:\\\\proj18797\\\\data\\\\val\\\\0064.wav',\n",
       " 'C:\\\\proj18797\\\\data\\\\val\\\\0065.wav',\n",
       " 'C:\\\\proj18797\\\\data\\\\val\\\\0066.wav',\n",
       " 'C:\\\\proj18797\\\\data\\\\val\\\\0067.wav',\n",
       " 'C:\\\\proj18797\\\\data\\\\val\\\\0068.wav',\n",
       " 'C:\\\\proj18797\\\\data\\\\val\\\\0069.wav',\n",
       " 'C:\\\\proj18797\\\\data\\\\val\\\\0070.wav',\n",
       " 'C:\\\\proj18797\\\\data\\\\val\\\\0071.wav',\n",
       " 'C:\\\\proj18797\\\\data\\\\val\\\\0072.wav',\n",
       " 'C:\\\\proj18797\\\\data\\\\val\\\\0073.wav',\n",
       " 'C:\\\\proj18797\\\\data\\\\val\\\\0074.wav',\n",
       " 'C:\\\\proj18797\\\\data\\\\val\\\\0075.wav',\n",
       " 'C:\\\\proj18797\\\\data\\\\val\\\\0076.wav',\n",
       " 'C:\\\\proj18797\\\\data\\\\val\\\\0077.wav',\n",
       " 'C:\\\\proj18797\\\\data\\\\val\\\\0078.wav',\n",
       " 'C:\\\\proj18797\\\\data\\\\val\\\\0079.wav',\n",
       " 'C:\\\\proj18797\\\\data\\\\val\\\\0080.wav',\n",
       " 'C:\\\\proj18797\\\\data\\\\val\\\\0081.wav',\n",
       " 'C:\\\\proj18797\\\\data\\\\val\\\\0082.wav',\n",
       " 'C:\\\\proj18797\\\\data\\\\val\\\\0083.wav',\n",
       " 'C:\\\\proj18797\\\\data\\\\val\\\\0084.wav',\n",
       " 'C:\\\\proj18797\\\\data\\\\val\\\\0085.wav',\n",
       " 'C:\\\\proj18797\\\\data\\\\val\\\\0086.wav',\n",
       " 'C:\\\\proj18797\\\\data\\\\val\\\\0087.wav',\n",
       " 'C:\\\\proj18797\\\\data\\\\val\\\\0088.wav',\n",
       " 'C:\\\\proj18797\\\\data\\\\val\\\\0089.wav',\n",
       " 'C:\\\\proj18797\\\\data\\\\val\\\\0090.wav',\n",
       " 'C:\\\\proj18797\\\\data\\\\val\\\\0091.wav',\n",
       " 'C:\\\\proj18797\\\\data\\\\val\\\\0092.wav',\n",
       " 'C:\\\\proj18797\\\\data\\\\val\\\\0093.wav',\n",
       " 'C:\\\\proj18797\\\\data\\\\val\\\\0094.wav',\n",
       " 'C:\\\\proj18797\\\\data\\\\val\\\\0095.wav',\n",
       " 'C:\\\\proj18797\\\\data\\\\val\\\\0096.wav',\n",
       " 'C:\\\\proj18797\\\\data\\\\val\\\\0097.wav',\n",
       " 'C:\\\\proj18797\\\\data\\\\val\\\\0098.wav',\n",
       " 'C:\\\\proj18797\\\\data\\\\val\\\\0099.wav',\n",
       " 'C:\\\\proj18797\\\\data\\\\val\\\\0100.wav',\n",
       " 'C:\\\\proj18797\\\\data\\\\val\\\\0101.wav',\n",
       " 'C:\\\\proj18797\\\\data\\\\val\\\\0102.wav',\n",
       " 'C:\\\\proj18797\\\\data\\\\val\\\\0103.wav',\n",
       " 'C:\\\\proj18797\\\\data\\\\val\\\\0104.wav',\n",
       " 'C:\\\\proj18797\\\\data\\\\val\\\\0105.wav',\n",
       " 'C:\\\\proj18797\\\\data\\\\val\\\\0106.wav',\n",
       " 'C:\\\\proj18797\\\\data\\\\val\\\\0107.wav',\n",
       " 'C:\\\\proj18797\\\\data\\\\val\\\\0108.wav',\n",
       " 'C:\\\\proj18797\\\\data\\\\val\\\\100.mid',\n",
       " 'C:\\\\proj18797\\\\data\\\\val\\\\101.mid',\n",
       " 'C:\\\\proj18797\\\\data\\\\val\\\\102.mid',\n",
       " 'C:\\\\proj18797\\\\data\\\\val\\\\103.mid',\n",
       " 'C:\\\\proj18797\\\\data\\\\val\\\\104.mid',\n",
       " 'C:\\\\proj18797\\\\data\\\\val\\\\105.mid',\n",
       " 'C:\\\\proj18797\\\\data\\\\val\\\\106.mid',\n",
       " 'C:\\\\proj18797\\\\data\\\\val\\\\107.mid',\n",
       " 'C:\\\\proj18797\\\\data\\\\val\\\\108.mid',\n",
       " 'C:\\\\proj18797\\\\data\\\\val\\\\21.mid',\n",
       " 'C:\\\\proj18797\\\\data\\\\val\\\\22.mid',\n",
       " 'C:\\\\proj18797\\\\data\\\\val\\\\23.mid',\n",
       " 'C:\\\\proj18797\\\\data\\\\val\\\\24.mid',\n",
       " 'C:\\\\proj18797\\\\data\\\\val\\\\25.mid',\n",
       " 'C:\\\\proj18797\\\\data\\\\val\\\\26.mid',\n",
       " 'C:\\\\proj18797\\\\data\\\\val\\\\27.mid',\n",
       " 'C:\\\\proj18797\\\\data\\\\val\\\\28.mid',\n",
       " 'C:\\\\proj18797\\\\data\\\\val\\\\29.mid',\n",
       " 'C:\\\\proj18797\\\\data\\\\val\\\\30.mid',\n",
       " 'C:\\\\proj18797\\\\data\\\\val\\\\31.mid',\n",
       " 'C:\\\\proj18797\\\\data\\\\val\\\\32.mid',\n",
       " 'C:\\\\proj18797\\\\data\\\\val\\\\33.mid',\n",
       " 'C:\\\\proj18797\\\\data\\\\val\\\\34.mid',\n",
       " 'C:\\\\proj18797\\\\data\\\\val\\\\35.mid',\n",
       " 'C:\\\\proj18797\\\\data\\\\val\\\\36.mid',\n",
       " 'C:\\\\proj18797\\\\data\\\\val\\\\37.mid',\n",
       " 'C:\\\\proj18797\\\\data\\\\val\\\\38.mid',\n",
       " 'C:\\\\proj18797\\\\data\\\\val\\\\39.mid',\n",
       " 'C:\\\\proj18797\\\\data\\\\val\\\\40.mid',\n",
       " 'C:\\\\proj18797\\\\data\\\\val\\\\41.mid',\n",
       " 'C:\\\\proj18797\\\\data\\\\val\\\\42.mid',\n",
       " 'C:\\\\proj18797\\\\data\\\\val\\\\43.mid',\n",
       " 'C:\\\\proj18797\\\\data\\\\val\\\\44.mid',\n",
       " 'C:\\\\proj18797\\\\data\\\\val\\\\45.mid',\n",
       " 'C:\\\\proj18797\\\\data\\\\val\\\\46.mid',\n",
       " 'C:\\\\proj18797\\\\data\\\\val\\\\47.mid',\n",
       " 'C:\\\\proj18797\\\\data\\\\val\\\\48.mid',\n",
       " 'C:\\\\proj18797\\\\data\\\\val\\\\49.mid',\n",
       " 'C:\\\\proj18797\\\\data\\\\val\\\\50.mid',\n",
       " 'C:\\\\proj18797\\\\data\\\\val\\\\51.mid',\n",
       " 'C:\\\\proj18797\\\\data\\\\val\\\\52.mid',\n",
       " 'C:\\\\proj18797\\\\data\\\\val\\\\53.mid',\n",
       " 'C:\\\\proj18797\\\\data\\\\val\\\\54.mid',\n",
       " 'C:\\\\proj18797\\\\data\\\\val\\\\55.mid',\n",
       " 'C:\\\\proj18797\\\\data\\\\val\\\\56.mid',\n",
       " 'C:\\\\proj18797\\\\data\\\\val\\\\57.mid',\n",
       " 'C:\\\\proj18797\\\\data\\\\val\\\\58.mid',\n",
       " 'C:\\\\proj18797\\\\data\\\\val\\\\59.mid',\n",
       " 'C:\\\\proj18797\\\\data\\\\val\\\\60.mid',\n",
       " 'C:\\\\proj18797\\\\data\\\\val\\\\61.mid',\n",
       " 'C:\\\\proj18797\\\\data\\\\val\\\\62.mid',\n",
       " 'C:\\\\proj18797\\\\data\\\\val\\\\63.mid',\n",
       " 'C:\\\\proj18797\\\\data\\\\val\\\\64.mid',\n",
       " 'C:\\\\proj18797\\\\data\\\\val\\\\65.mid',\n",
       " 'C:\\\\proj18797\\\\data\\\\val\\\\66.mid',\n",
       " 'C:\\\\proj18797\\\\data\\\\val\\\\67.mid',\n",
       " 'C:\\\\proj18797\\\\data\\\\val\\\\68.mid',\n",
       " 'C:\\\\proj18797\\\\data\\\\val\\\\69.mid',\n",
       " 'C:\\\\proj18797\\\\data\\\\val\\\\70.mid',\n",
       " 'C:\\\\proj18797\\\\data\\\\val\\\\71.mid',\n",
       " 'C:\\\\proj18797\\\\data\\\\val\\\\72.mid',\n",
       " 'C:\\\\proj18797\\\\data\\\\val\\\\73.mid',\n",
       " 'C:\\\\proj18797\\\\data\\\\val\\\\74.mid',\n",
       " 'C:\\\\proj18797\\\\data\\\\val\\\\75.mid',\n",
       " 'C:\\\\proj18797\\\\data\\\\val\\\\76.mid',\n",
       " 'C:\\\\proj18797\\\\data\\\\val\\\\77.mid',\n",
       " 'C:\\\\proj18797\\\\data\\\\val\\\\78.mid',\n",
       " 'C:\\\\proj18797\\\\data\\\\val\\\\79.mid',\n",
       " 'C:\\\\proj18797\\\\data\\\\val\\\\80.mid',\n",
       " 'C:\\\\proj18797\\\\data\\\\val\\\\81.mid',\n",
       " 'C:\\\\proj18797\\\\data\\\\val\\\\82.mid',\n",
       " 'C:\\\\proj18797\\\\data\\\\val\\\\83.mid',\n",
       " 'C:\\\\proj18797\\\\data\\\\val\\\\84.mid',\n",
       " 'C:\\\\proj18797\\\\data\\\\val\\\\85.mid',\n",
       " 'C:\\\\proj18797\\\\data\\\\val\\\\86.mid',\n",
       " 'C:\\\\proj18797\\\\data\\\\val\\\\87.mid',\n",
       " 'C:\\\\proj18797\\\\data\\\\val\\\\88.mid',\n",
       " 'C:\\\\proj18797\\\\data\\\\val\\\\89.mid',\n",
       " 'C:\\\\proj18797\\\\data\\\\val\\\\90.mid',\n",
       " 'C:\\\\proj18797\\\\data\\\\val\\\\91.mid',\n",
       " 'C:\\\\proj18797\\\\data\\\\val\\\\92.mid',\n",
       " 'C:\\\\proj18797\\\\data\\\\val\\\\93.mid',\n",
       " 'C:\\\\proj18797\\\\data\\\\val\\\\94.mid',\n",
       " 'C:\\\\proj18797\\\\data\\\\val\\\\95.mid',\n",
       " 'C:\\\\proj18797\\\\data\\\\val\\\\96.mid',\n",
       " 'C:\\\\proj18797\\\\data\\\\val\\\\97.mid',\n",
       " 'C:\\\\proj18797\\\\data\\\\val\\\\98.mid',\n",
       " 'C:\\\\proj18797\\\\data\\\\val\\\\99.mid',\n",
       " 'C:\\\\proj18797\\\\data\\\\val\\\\timmy.sh']"
      ]
     },
     "execution_count": 100,
     "metadata": {},
     "output_type": "execute_result"
    }
   ],
   "source": [
    "val_list"
   ]
  },
  {
   "cell_type": "code",
   "execution_count": 101,
   "metadata": {},
   "outputs": [],
   "source": [
    "    for i in val_list:\n",
    "        val_name.append(i[:-3])"
   ]
  },
  {
   "cell_type": "code",
   "execution_count": 102,
   "metadata": {},
   "outputs": [
    {
     "data": {
      "text/plain": [
       "['C:\\\\proj18797\\\\data\\\\val\\\\0021.',\n",
       " 'C:\\\\proj18797\\\\data\\\\val\\\\0022.',\n",
       " 'C:\\\\proj18797\\\\data\\\\val\\\\0023.',\n",
       " 'C:\\\\proj18797\\\\data\\\\val\\\\0024.',\n",
       " 'C:\\\\proj18797\\\\data\\\\val\\\\0025.',\n",
       " 'C:\\\\proj18797\\\\data\\\\val\\\\0026.',\n",
       " 'C:\\\\proj18797\\\\data\\\\val\\\\0027.',\n",
       " 'C:\\\\proj18797\\\\data\\\\val\\\\0028.',\n",
       " 'C:\\\\proj18797\\\\data\\\\val\\\\0029.',\n",
       " 'C:\\\\proj18797\\\\data\\\\val\\\\0030.',\n",
       " 'C:\\\\proj18797\\\\data\\\\val\\\\0031.',\n",
       " 'C:\\\\proj18797\\\\data\\\\val\\\\0032.',\n",
       " 'C:\\\\proj18797\\\\data\\\\val\\\\0033.',\n",
       " 'C:\\\\proj18797\\\\data\\\\val\\\\0034.',\n",
       " 'C:\\\\proj18797\\\\data\\\\val\\\\0035.',\n",
       " 'C:\\\\proj18797\\\\data\\\\val\\\\0036.',\n",
       " 'C:\\\\proj18797\\\\data\\\\val\\\\0037.',\n",
       " 'C:\\\\proj18797\\\\data\\\\val\\\\0038.',\n",
       " 'C:\\\\proj18797\\\\data\\\\val\\\\0039.',\n",
       " 'C:\\\\proj18797\\\\data\\\\val\\\\0040.',\n",
       " 'C:\\\\proj18797\\\\data\\\\val\\\\0041.',\n",
       " 'C:\\\\proj18797\\\\data\\\\val\\\\0042.',\n",
       " 'C:\\\\proj18797\\\\data\\\\val\\\\0043.',\n",
       " 'C:\\\\proj18797\\\\data\\\\val\\\\0044.',\n",
       " 'C:\\\\proj18797\\\\data\\\\val\\\\0045.',\n",
       " 'C:\\\\proj18797\\\\data\\\\val\\\\0046.',\n",
       " 'C:\\\\proj18797\\\\data\\\\val\\\\0047.',\n",
       " 'C:\\\\proj18797\\\\data\\\\val\\\\0048.',\n",
       " 'C:\\\\proj18797\\\\data\\\\val\\\\0049.',\n",
       " 'C:\\\\proj18797\\\\data\\\\val\\\\0050.',\n",
       " 'C:\\\\proj18797\\\\data\\\\val\\\\0051.',\n",
       " 'C:\\\\proj18797\\\\data\\\\val\\\\0052.',\n",
       " 'C:\\\\proj18797\\\\data\\\\val\\\\0053.',\n",
       " 'C:\\\\proj18797\\\\data\\\\val\\\\0054.',\n",
       " 'C:\\\\proj18797\\\\data\\\\val\\\\0055.',\n",
       " 'C:\\\\proj18797\\\\data\\\\val\\\\0056.',\n",
       " 'C:\\\\proj18797\\\\data\\\\val\\\\0057.',\n",
       " 'C:\\\\proj18797\\\\data\\\\val\\\\0058.',\n",
       " 'C:\\\\proj18797\\\\data\\\\val\\\\0059.',\n",
       " 'C:\\\\proj18797\\\\data\\\\val\\\\0060.',\n",
       " 'C:\\\\proj18797\\\\data\\\\val\\\\0061.',\n",
       " 'C:\\\\proj18797\\\\data\\\\val\\\\0062.',\n",
       " 'C:\\\\proj18797\\\\data\\\\val\\\\0063.',\n",
       " 'C:\\\\proj18797\\\\data\\\\val\\\\0064.',\n",
       " 'C:\\\\proj18797\\\\data\\\\val\\\\0065.',\n",
       " 'C:\\\\proj18797\\\\data\\\\val\\\\0066.',\n",
       " 'C:\\\\proj18797\\\\data\\\\val\\\\0067.',\n",
       " 'C:\\\\proj18797\\\\data\\\\val\\\\0068.',\n",
       " 'C:\\\\proj18797\\\\data\\\\val\\\\0069.',\n",
       " 'C:\\\\proj18797\\\\data\\\\val\\\\0070.',\n",
       " 'C:\\\\proj18797\\\\data\\\\val\\\\0071.',\n",
       " 'C:\\\\proj18797\\\\data\\\\val\\\\0072.',\n",
       " 'C:\\\\proj18797\\\\data\\\\val\\\\0073.',\n",
       " 'C:\\\\proj18797\\\\data\\\\val\\\\0074.',\n",
       " 'C:\\\\proj18797\\\\data\\\\val\\\\0075.',\n",
       " 'C:\\\\proj18797\\\\data\\\\val\\\\0076.',\n",
       " 'C:\\\\proj18797\\\\data\\\\val\\\\0077.',\n",
       " 'C:\\\\proj18797\\\\data\\\\val\\\\0078.',\n",
       " 'C:\\\\proj18797\\\\data\\\\val\\\\0079.',\n",
       " 'C:\\\\proj18797\\\\data\\\\val\\\\0080.',\n",
       " 'C:\\\\proj18797\\\\data\\\\val\\\\0081.',\n",
       " 'C:\\\\proj18797\\\\data\\\\val\\\\0082.',\n",
       " 'C:\\\\proj18797\\\\data\\\\val\\\\0083.',\n",
       " 'C:\\\\proj18797\\\\data\\\\val\\\\0084.',\n",
       " 'C:\\\\proj18797\\\\data\\\\val\\\\0085.',\n",
       " 'C:\\\\proj18797\\\\data\\\\val\\\\0086.',\n",
       " 'C:\\\\proj18797\\\\data\\\\val\\\\0087.',\n",
       " 'C:\\\\proj18797\\\\data\\\\val\\\\0088.',\n",
       " 'C:\\\\proj18797\\\\data\\\\val\\\\0089.',\n",
       " 'C:\\\\proj18797\\\\data\\\\val\\\\0090.',\n",
       " 'C:\\\\proj18797\\\\data\\\\val\\\\0091.',\n",
       " 'C:\\\\proj18797\\\\data\\\\val\\\\0092.',\n",
       " 'C:\\\\proj18797\\\\data\\\\val\\\\0093.',\n",
       " 'C:\\\\proj18797\\\\data\\\\val\\\\0094.',\n",
       " 'C:\\\\proj18797\\\\data\\\\val\\\\0095.',\n",
       " 'C:\\\\proj18797\\\\data\\\\val\\\\0096.',\n",
       " 'C:\\\\proj18797\\\\data\\\\val\\\\0097.',\n",
       " 'C:\\\\proj18797\\\\data\\\\val\\\\0098.',\n",
       " 'C:\\\\proj18797\\\\data\\\\val\\\\0099.',\n",
       " 'C:\\\\proj18797\\\\data\\\\val\\\\0100.',\n",
       " 'C:\\\\proj18797\\\\data\\\\val\\\\0101.',\n",
       " 'C:\\\\proj18797\\\\data\\\\val\\\\0102.',\n",
       " 'C:\\\\proj18797\\\\data\\\\val\\\\0103.',\n",
       " 'C:\\\\proj18797\\\\data\\\\val\\\\0104.',\n",
       " 'C:\\\\proj18797\\\\data\\\\val\\\\0105.',\n",
       " 'C:\\\\proj18797\\\\data\\\\val\\\\0106.',\n",
       " 'C:\\\\proj18797\\\\data\\\\val\\\\0107.',\n",
       " 'C:\\\\proj18797\\\\data\\\\val\\\\0108.',\n",
       " 'C:\\\\proj18797\\\\data\\\\val\\\\100.',\n",
       " 'C:\\\\proj18797\\\\data\\\\val\\\\101.',\n",
       " 'C:\\\\proj18797\\\\data\\\\val\\\\102.',\n",
       " 'C:\\\\proj18797\\\\data\\\\val\\\\103.',\n",
       " 'C:\\\\proj18797\\\\data\\\\val\\\\104.',\n",
       " 'C:\\\\proj18797\\\\data\\\\val\\\\105.',\n",
       " 'C:\\\\proj18797\\\\data\\\\val\\\\106.',\n",
       " 'C:\\\\proj18797\\\\data\\\\val\\\\107.',\n",
       " 'C:\\\\proj18797\\\\data\\\\val\\\\108.',\n",
       " 'C:\\\\proj18797\\\\data\\\\val\\\\21.',\n",
       " 'C:\\\\proj18797\\\\data\\\\val\\\\22.',\n",
       " 'C:\\\\proj18797\\\\data\\\\val\\\\23.',\n",
       " 'C:\\\\proj18797\\\\data\\\\val\\\\24.',\n",
       " 'C:\\\\proj18797\\\\data\\\\val\\\\25.',\n",
       " 'C:\\\\proj18797\\\\data\\\\val\\\\26.',\n",
       " 'C:\\\\proj18797\\\\data\\\\val\\\\27.',\n",
       " 'C:\\\\proj18797\\\\data\\\\val\\\\28.',\n",
       " 'C:\\\\proj18797\\\\data\\\\val\\\\29.',\n",
       " 'C:\\\\proj18797\\\\data\\\\val\\\\30.',\n",
       " 'C:\\\\proj18797\\\\data\\\\val\\\\31.',\n",
       " 'C:\\\\proj18797\\\\data\\\\val\\\\32.',\n",
       " 'C:\\\\proj18797\\\\data\\\\val\\\\33.',\n",
       " 'C:\\\\proj18797\\\\data\\\\val\\\\34.',\n",
       " 'C:\\\\proj18797\\\\data\\\\val\\\\35.',\n",
       " 'C:\\\\proj18797\\\\data\\\\val\\\\36.',\n",
       " 'C:\\\\proj18797\\\\data\\\\val\\\\37.',\n",
       " 'C:\\\\proj18797\\\\data\\\\val\\\\38.',\n",
       " 'C:\\\\proj18797\\\\data\\\\val\\\\39.',\n",
       " 'C:\\\\proj18797\\\\data\\\\val\\\\40.',\n",
       " 'C:\\\\proj18797\\\\data\\\\val\\\\41.',\n",
       " 'C:\\\\proj18797\\\\data\\\\val\\\\42.',\n",
       " 'C:\\\\proj18797\\\\data\\\\val\\\\43.',\n",
       " 'C:\\\\proj18797\\\\data\\\\val\\\\44.',\n",
       " 'C:\\\\proj18797\\\\data\\\\val\\\\45.',\n",
       " 'C:\\\\proj18797\\\\data\\\\val\\\\46.',\n",
       " 'C:\\\\proj18797\\\\data\\\\val\\\\47.',\n",
       " 'C:\\\\proj18797\\\\data\\\\val\\\\48.',\n",
       " 'C:\\\\proj18797\\\\data\\\\val\\\\49.',\n",
       " 'C:\\\\proj18797\\\\data\\\\val\\\\50.',\n",
       " 'C:\\\\proj18797\\\\data\\\\val\\\\51.',\n",
       " 'C:\\\\proj18797\\\\data\\\\val\\\\52.',\n",
       " 'C:\\\\proj18797\\\\data\\\\val\\\\53.',\n",
       " 'C:\\\\proj18797\\\\data\\\\val\\\\54.',\n",
       " 'C:\\\\proj18797\\\\data\\\\val\\\\55.',\n",
       " 'C:\\\\proj18797\\\\data\\\\val\\\\56.',\n",
       " 'C:\\\\proj18797\\\\data\\\\val\\\\57.',\n",
       " 'C:\\\\proj18797\\\\data\\\\val\\\\58.',\n",
       " 'C:\\\\proj18797\\\\data\\\\val\\\\59.',\n",
       " 'C:\\\\proj18797\\\\data\\\\val\\\\60.',\n",
       " 'C:\\\\proj18797\\\\data\\\\val\\\\61.',\n",
       " 'C:\\\\proj18797\\\\data\\\\val\\\\62.',\n",
       " 'C:\\\\proj18797\\\\data\\\\val\\\\63.',\n",
       " 'C:\\\\proj18797\\\\data\\\\val\\\\64.',\n",
       " 'C:\\\\proj18797\\\\data\\\\val\\\\65.',\n",
       " 'C:\\\\proj18797\\\\data\\\\val\\\\66.',\n",
       " 'C:\\\\proj18797\\\\data\\\\val\\\\67.',\n",
       " 'C:\\\\proj18797\\\\data\\\\val\\\\68.',\n",
       " 'C:\\\\proj18797\\\\data\\\\val\\\\69.',\n",
       " 'C:\\\\proj18797\\\\data\\\\val\\\\70.',\n",
       " 'C:\\\\proj18797\\\\data\\\\val\\\\71.',\n",
       " 'C:\\\\proj18797\\\\data\\\\val\\\\72.',\n",
       " 'C:\\\\proj18797\\\\data\\\\val\\\\73.',\n",
       " 'C:\\\\proj18797\\\\data\\\\val\\\\74.',\n",
       " 'C:\\\\proj18797\\\\data\\\\val\\\\75.',\n",
       " 'C:\\\\proj18797\\\\data\\\\val\\\\76.',\n",
       " 'C:\\\\proj18797\\\\data\\\\val\\\\77.',\n",
       " 'C:\\\\proj18797\\\\data\\\\val\\\\78.',\n",
       " 'C:\\\\proj18797\\\\data\\\\val\\\\79.',\n",
       " 'C:\\\\proj18797\\\\data\\\\val\\\\80.',\n",
       " 'C:\\\\proj18797\\\\data\\\\val\\\\81.',\n",
       " 'C:\\\\proj18797\\\\data\\\\val\\\\82.',\n",
       " 'C:\\\\proj18797\\\\data\\\\val\\\\83.',\n",
       " 'C:\\\\proj18797\\\\data\\\\val\\\\84.',\n",
       " 'C:\\\\proj18797\\\\data\\\\val\\\\85.',\n",
       " 'C:\\\\proj18797\\\\data\\\\val\\\\86.',\n",
       " 'C:\\\\proj18797\\\\data\\\\val\\\\87.',\n",
       " 'C:\\\\proj18797\\\\data\\\\val\\\\88.',\n",
       " 'C:\\\\proj18797\\\\data\\\\val\\\\89.',\n",
       " 'C:\\\\proj18797\\\\data\\\\val\\\\90.',\n",
       " 'C:\\\\proj18797\\\\data\\\\val\\\\91.',\n",
       " 'C:\\\\proj18797\\\\data\\\\val\\\\92.',\n",
       " 'C:\\\\proj18797\\\\data\\\\val\\\\93.',\n",
       " 'C:\\\\proj18797\\\\data\\\\val\\\\94.',\n",
       " 'C:\\\\proj18797\\\\data\\\\val\\\\95.',\n",
       " 'C:\\\\proj18797\\\\data\\\\val\\\\96.',\n",
       " 'C:\\\\proj18797\\\\data\\\\val\\\\97.',\n",
       " 'C:\\\\proj18797\\\\data\\\\val\\\\98.',\n",
       " 'C:\\\\proj18797\\\\data\\\\val\\\\99.',\n",
       " 'C:\\\\proj18797\\\\data\\\\val\\\\timmy']"
      ]
     },
     "execution_count": 102,
     "metadata": {},
     "output_type": "execute_result"
    }
   ],
   "source": [
    "val_name"
   ]
  },
  {
   "cell_type": "code",
   "execution_count": 103,
   "metadata": {},
   "outputs": [],
   "source": [
    "    val_name = list(set(val_name))"
   ]
  },
  {
   "cell_type": "code",
   "execution_count": 104,
   "metadata": {},
   "outputs": [
    {
     "data": {
      "text/plain": [
       "['C:\\\\proj18797\\\\data\\\\val\\\\52.',\n",
       " 'C:\\\\proj18797\\\\data\\\\val\\\\0064.',\n",
       " 'C:\\\\proj18797\\\\data\\\\val\\\\0062.',\n",
       " 'C:\\\\proj18797\\\\data\\\\val\\\\93.',\n",
       " 'C:\\\\proj18797\\\\data\\\\val\\\\41.',\n",
       " 'C:\\\\proj18797\\\\data\\\\val\\\\0022.',\n",
       " 'C:\\\\proj18797\\\\data\\\\val\\\\96.',\n",
       " 'C:\\\\proj18797\\\\data\\\\val\\\\61.',\n",
       " 'C:\\\\proj18797\\\\data\\\\val\\\\0101.',\n",
       " 'C:\\\\proj18797\\\\data\\\\val\\\\26.',\n",
       " 'C:\\\\proj18797\\\\data\\\\val\\\\0052.',\n",
       " 'C:\\\\proj18797\\\\data\\\\val\\\\102.',\n",
       " 'C:\\\\proj18797\\\\data\\\\val\\\\48.',\n",
       " 'C:\\\\proj18797\\\\data\\\\val\\\\72.',\n",
       " 'C:\\\\proj18797\\\\data\\\\val\\\\0050.',\n",
       " 'C:\\\\proj18797\\\\data\\\\val\\\\78.',\n",
       " 'C:\\\\proj18797\\\\data\\\\val\\\\0066.',\n",
       " 'C:\\\\proj18797\\\\data\\\\val\\\\0030.',\n",
       " 'C:\\\\proj18797\\\\data\\\\val\\\\0105.',\n",
       " 'C:\\\\proj18797\\\\data\\\\val\\\\0058.',\n",
       " 'C:\\\\proj18797\\\\data\\\\val\\\\0106.',\n",
       " 'C:\\\\proj18797\\\\data\\\\val\\\\0032.',\n",
       " 'C:\\\\proj18797\\\\data\\\\val\\\\101.',\n",
       " 'C:\\\\proj18797\\\\data\\\\val\\\\53.',\n",
       " 'C:\\\\proj18797\\\\data\\\\val\\\\0108.',\n",
       " 'C:\\\\proj18797\\\\data\\\\val\\\\0092.',\n",
       " 'C:\\\\proj18797\\\\data\\\\val\\\\79.',\n",
       " 'C:\\\\proj18797\\\\data\\\\val\\\\105.',\n",
       " 'C:\\\\proj18797\\\\data\\\\val\\\\97.',\n",
       " 'C:\\\\proj18797\\\\data\\\\val\\\\0046.',\n",
       " 'C:\\\\proj18797\\\\data\\\\val\\\\0036.',\n",
       " 'C:\\\\proj18797\\\\data\\\\val\\\\37.',\n",
       " 'C:\\\\proj18797\\\\data\\\\val\\\\84.',\n",
       " 'C:\\\\proj18797\\\\data\\\\val\\\\0049.',\n",
       " 'C:\\\\proj18797\\\\data\\\\val\\\\0039.',\n",
       " 'C:\\\\proj18797\\\\data\\\\val\\\\65.',\n",
       " 'C:\\\\proj18797\\\\data\\\\val\\\\0099.',\n",
       " 'C:\\\\proj18797\\\\data\\\\val\\\\74.',\n",
       " 'C:\\\\proj18797\\\\data\\\\val\\\\100.',\n",
       " 'C:\\\\proj18797\\\\data\\\\val\\\\0075.',\n",
       " 'C:\\\\proj18797\\\\data\\\\val\\\\0083.',\n",
       " 'C:\\\\proj18797\\\\data\\\\val\\\\76.',\n",
       " 'C:\\\\proj18797\\\\data\\\\val\\\\0053.',\n",
       " 'C:\\\\proj18797\\\\data\\\\val\\\\47.',\n",
       " 'C:\\\\proj18797\\\\data\\\\val\\\\68.',\n",
       " 'C:\\\\proj18797\\\\data\\\\val\\\\0028.',\n",
       " 'C:\\\\proj18797\\\\data\\\\val\\\\0033.',\n",
       " 'C:\\\\proj18797\\\\data\\\\val\\\\0070.',\n",
       " 'C:\\\\proj18797\\\\data\\\\val\\\\0027.',\n",
       " 'C:\\\\proj18797\\\\data\\\\val\\\\0056.',\n",
       " 'C:\\\\proj18797\\\\data\\\\val\\\\0082.',\n",
       " 'C:\\\\proj18797\\\\data\\\\val\\\\0093.',\n",
       " 'C:\\\\proj18797\\\\data\\\\val\\\\45.',\n",
       " 'C:\\\\proj18797\\\\data\\\\val\\\\57.',\n",
       " 'C:\\\\proj18797\\\\data\\\\val\\\\0054.',\n",
       " 'C:\\\\proj18797\\\\data\\\\val\\\\0091.',\n",
       " 'C:\\\\proj18797\\\\data\\\\val\\\\80.',\n",
       " 'C:\\\\proj18797\\\\data\\\\val\\\\42.',\n",
       " 'C:\\\\proj18797\\\\data\\\\val\\\\0029.',\n",
       " 'C:\\\\proj18797\\\\data\\\\val\\\\0071.',\n",
       " 'C:\\\\proj18797\\\\data\\\\val\\\\70.',\n",
       " 'C:\\\\proj18797\\\\data\\\\val\\\\81.',\n",
       " 'C:\\\\proj18797\\\\data\\\\val\\\\0024.',\n",
       " 'C:\\\\proj18797\\\\data\\\\val\\\\0087.',\n",
       " 'C:\\\\proj18797\\\\data\\\\val\\\\32.',\n",
       " 'C:\\\\proj18797\\\\data\\\\val\\\\89.',\n",
       " 'C:\\\\proj18797\\\\data\\\\val\\\\92.',\n",
       " 'C:\\\\proj18797\\\\data\\\\val\\\\0089.',\n",
       " 'C:\\\\proj18797\\\\data\\\\val\\\\73.',\n",
       " 'C:\\\\proj18797\\\\data\\\\val\\\\60.',\n",
       " 'C:\\\\proj18797\\\\data\\\\val\\\\0051.',\n",
       " 'C:\\\\proj18797\\\\data\\\\val\\\\43.',\n",
       " 'C:\\\\proj18797\\\\data\\\\val\\\\0044.',\n",
       " 'C:\\\\proj18797\\\\data\\\\val\\\\0061.',\n",
       " 'C:\\\\proj18797\\\\data\\\\val\\\\0037.',\n",
       " 'C:\\\\proj18797\\\\data\\\\val\\\\0088.',\n",
       " 'C:\\\\proj18797\\\\data\\\\val\\\\39.',\n",
       " 'C:\\\\proj18797\\\\data\\\\val\\\\90.',\n",
       " 'C:\\\\proj18797\\\\data\\\\val\\\\58.',\n",
       " 'C:\\\\proj18797\\\\data\\\\val\\\\75.',\n",
       " 'C:\\\\proj18797\\\\data\\\\val\\\\29.',\n",
       " 'C:\\\\proj18797\\\\data\\\\val\\\\40.',\n",
       " 'C:\\\\proj18797\\\\data\\\\val\\\\0096.',\n",
       " 'C:\\\\proj18797\\\\data\\\\val\\\\71.',\n",
       " 'C:\\\\proj18797\\\\data\\\\val\\\\0078.',\n",
       " 'C:\\\\proj18797\\\\data\\\\val\\\\0103.',\n",
       " 'C:\\\\proj18797\\\\data\\\\val\\\\0068.',\n",
       " 'C:\\\\proj18797\\\\data\\\\val\\\\0072.',\n",
       " 'C:\\\\proj18797\\\\data\\\\val\\\\0074.',\n",
       " 'C:\\\\proj18797\\\\data\\\\val\\\\77.',\n",
       " 'C:\\\\proj18797\\\\data\\\\val\\\\0080.',\n",
       " 'C:\\\\proj18797\\\\data\\\\val\\\\33.',\n",
       " 'C:\\\\proj18797\\\\data\\\\val\\\\107.',\n",
       " 'C:\\\\proj18797\\\\data\\\\val\\\\91.',\n",
       " 'C:\\\\proj18797\\\\data\\\\val\\\\0057.',\n",
       " 'C:\\\\proj18797\\\\data\\\\val\\\\0040.',\n",
       " 'C:\\\\proj18797\\\\data\\\\val\\\\69.',\n",
       " 'C:\\\\proj18797\\\\data\\\\val\\\\83.',\n",
       " 'C:\\\\proj18797\\\\data\\\\val\\\\0098.',\n",
       " 'C:\\\\proj18797\\\\data\\\\val\\\\38.',\n",
       " 'C:\\\\proj18797\\\\data\\\\val\\\\24.',\n",
       " 'C:\\\\proj18797\\\\data\\\\val\\\\51.',\n",
       " 'C:\\\\proj18797\\\\data\\\\val\\\\23.',\n",
       " 'C:\\\\proj18797\\\\data\\\\val\\\\30.',\n",
       " 'C:\\\\proj18797\\\\data\\\\val\\\\85.',\n",
       " 'C:\\\\proj18797\\\\data\\\\val\\\\0090.',\n",
       " 'C:\\\\proj18797\\\\data\\\\val\\\\0063.',\n",
       " 'C:\\\\proj18797\\\\data\\\\val\\\\66.',\n",
       " 'C:\\\\proj18797\\\\data\\\\val\\\\0060.',\n",
       " 'C:\\\\proj18797\\\\data\\\\val\\\\94.',\n",
       " 'C:\\\\proj18797\\\\data\\\\val\\\\108.',\n",
       " 'C:\\\\proj18797\\\\data\\\\val\\\\87.',\n",
       " 'C:\\\\proj18797\\\\data\\\\val\\\\64.',\n",
       " 'C:\\\\proj18797\\\\data\\\\val\\\\0084.',\n",
       " 'C:\\\\proj18797\\\\data\\\\val\\\\0073.',\n",
       " 'C:\\\\proj18797\\\\data\\\\val\\\\0097.',\n",
       " 'C:\\\\proj18797\\\\data\\\\val\\\\55.',\n",
       " 'C:\\\\proj18797\\\\data\\\\val\\\\82.',\n",
       " 'C:\\\\proj18797\\\\data\\\\val\\\\88.',\n",
       " 'C:\\\\proj18797\\\\data\\\\val\\\\0100.',\n",
       " 'C:\\\\proj18797\\\\data\\\\val\\\\59.',\n",
       " 'C:\\\\proj18797\\\\data\\\\val\\\\67.',\n",
       " 'C:\\\\proj18797\\\\data\\\\val\\\\0076.',\n",
       " 'C:\\\\proj18797\\\\data\\\\val\\\\0095.',\n",
       " 'C:\\\\proj18797\\\\data\\\\val\\\\36.',\n",
       " 'C:\\\\proj18797\\\\data\\\\val\\\\0069.',\n",
       " 'C:\\\\proj18797\\\\data\\\\val\\\\0031.',\n",
       " 'C:\\\\proj18797\\\\data\\\\val\\\\63.',\n",
       " 'C:\\\\proj18797\\\\data\\\\val\\\\31.',\n",
       " 'C:\\\\proj18797\\\\data\\\\val\\\\103.',\n",
       " 'C:\\\\proj18797\\\\data\\\\val\\\\0104.',\n",
       " 'C:\\\\proj18797\\\\data\\\\val\\\\0035.',\n",
       " 'C:\\\\proj18797\\\\data\\\\val\\\\0059.',\n",
       " 'C:\\\\proj18797\\\\data\\\\val\\\\0085.',\n",
       " 'C:\\\\proj18797\\\\data\\\\val\\\\0094.',\n",
       " 'C:\\\\proj18797\\\\data\\\\val\\\\21.',\n",
       " 'C:\\\\proj18797\\\\data\\\\val\\\\0107.',\n",
       " 'C:\\\\proj18797\\\\data\\\\val\\\\0055.',\n",
       " 'C:\\\\proj18797\\\\data\\\\val\\\\54.',\n",
       " 'C:\\\\proj18797\\\\data\\\\val\\\\99.',\n",
       " 'C:\\\\proj18797\\\\data\\\\val\\\\0081.',\n",
       " 'C:\\\\proj18797\\\\data\\\\val\\\\98.',\n",
       " 'C:\\\\proj18797\\\\data\\\\val\\\\44.',\n",
       " 'C:\\\\proj18797\\\\data\\\\val\\\\49.',\n",
       " 'C:\\\\proj18797\\\\data\\\\val\\\\0034.',\n",
       " 'C:\\\\proj18797\\\\data\\\\val\\\\0102.',\n",
       " 'C:\\\\proj18797\\\\data\\\\val\\\\0067.',\n",
       " 'C:\\\\proj18797\\\\data\\\\val\\\\0021.',\n",
       " 'C:\\\\proj18797\\\\data\\\\val\\\\50.',\n",
       " 'C:\\\\proj18797\\\\data\\\\val\\\\0026.',\n",
       " 'C:\\\\proj18797\\\\data\\\\val\\\\35.',\n",
       " 'C:\\\\proj18797\\\\data\\\\val\\\\106.',\n",
       " 'C:\\\\proj18797\\\\data\\\\val\\\\0038.',\n",
       " 'C:\\\\proj18797\\\\data\\\\val\\\\0043.',\n",
       " 'C:\\\\proj18797\\\\data\\\\val\\\\25.',\n",
       " 'C:\\\\proj18797\\\\data\\\\val\\\\28.',\n",
       " 'C:\\\\proj18797\\\\data\\\\val\\\\0045.',\n",
       " 'C:\\\\proj18797\\\\data\\\\val\\\\27.',\n",
       " 'C:\\\\proj18797\\\\data\\\\val\\\\0047.',\n",
       " 'C:\\\\proj18797\\\\data\\\\val\\\\86.',\n",
       " 'C:\\\\proj18797\\\\data\\\\val\\\\104.',\n",
       " 'C:\\\\proj18797\\\\data\\\\val\\\\0065.',\n",
       " 'C:\\\\proj18797\\\\data\\\\val\\\\0079.',\n",
       " 'C:\\\\proj18797\\\\data\\\\val\\\\56.',\n",
       " 'C:\\\\proj18797\\\\data\\\\val\\\\95.',\n",
       " 'C:\\\\proj18797\\\\data\\\\val\\\\0086.',\n",
       " 'C:\\\\proj18797\\\\data\\\\val\\\\0041.',\n",
       " 'C:\\\\proj18797\\\\data\\\\val\\\\0048.',\n",
       " 'C:\\\\proj18797\\\\data\\\\val\\\\0042.',\n",
       " 'C:\\\\proj18797\\\\data\\\\val\\\\timmy',\n",
       " 'C:\\\\proj18797\\\\data\\\\val\\\\62.',\n",
       " 'C:\\\\proj18797\\\\data\\\\val\\\\0025.',\n",
       " 'C:\\\\proj18797\\\\data\\\\val\\\\22.',\n",
       " 'C:\\\\proj18797\\\\data\\\\val\\\\46.',\n",
       " 'C:\\\\proj18797\\\\data\\\\val\\\\34.',\n",
       " 'C:\\\\proj18797\\\\data\\\\val\\\\0023.',\n",
       " 'C:\\\\proj18797\\\\data\\\\val\\\\0077.']"
      ]
     },
     "execution_count": 104,
     "metadata": {},
     "output_type": "execute_result"
    }
   ],
   "source": [
    "val_name"
   ]
  },
  {
   "cell_type": "code",
   "execution_count": null,
   "metadata": {},
   "outputs": [],
   "source": []
  }
 ],
 "metadata": {
  "kernelspec": {
   "display_name": "Python 3",
   "language": "python",
   "name": "python3"
  },
  "language_info": {
   "codemirror_mode": {
    "name": "ipython",
    "version": 3
   },
   "file_extension": ".py",
   "mimetype": "text/x-python",
   "name": "python",
   "nbconvert_exporter": "python",
   "pygments_lexer": "ipython3",
   "version": "3.6.5"
  }
 },
 "nbformat": 4,
 "nbformat_minor": 2
}
